{
 "cells": [
  {
   "cell_type": "code",
   "execution_count": 16,
   "id": "d48d4726",
   "metadata": {},
   "outputs": [],
   "source": [
    "class ExpenseTracker:\n",
    "    def __init__(self,date,description,tran_type,amount):\n",
    "        self.date = date\n",
    "        self.description = description\n",
    "        self.tran_type = tran_type\n",
    "        self.amount = amount"
   ]
  },
  {
   "cell_type": "code",
   "execution_count": 17,
   "id": "24a3f2cd",
   "metadata": {},
   "outputs": [
    {
     "data": {
      "text/plain": [
       "{'date': '1jan', 'description': 'weing', 'tran_type': 'debit', 'amount': '700'}"
      ]
     },
     "execution_count": 17,
     "metadata": {},
     "output_type": "execute_result"
    }
   ],
   "source": [
    "obj = ExpenseTracker(\"1jan\",\"weing\",\"debit\",\"700\")\n",
    "obj.__dict__"
   ]
  },
  {
   "cell_type": "code",
   "execution_count": 11,
   "id": "0d7c9e87",
   "metadata": {},
   "outputs": [
    {
     "data": {
      "text/plain": [
       "'100.00000'"
      ]
     },
     "execution_count": 11,
     "metadata": {},
     "output_type": "execute_result"
    }
   ],
   "source": [
    "format(100,'.5f')"
   ]
  },
  {
   "cell_type": "code",
   "execution_count": 18,
   "id": "1a86403b",
   "metadata": {},
   "outputs": [],
   "source": [
    "class ExpenseTracker:\n",
    "    #class attribute\n",
    "    expense_version_tracker=0.1\n",
    "    def __init__(self,track_category,original_balance,budget):\n",
    "        #instance/object Attributes\n",
    "        self.tracking_category=track_category\n",
    "        #private method\n",
    "        self.__original_balance=original_balance\n",
    "        self.__tracker_budget=budget\n",
    "    \n",
    "    #instance method\n",
    "    #private method\n",
    "    def __get_original_balance(self):\n",
    "        return self.__original_balance\n",
    "    \n",
    "    def check_balance(self,limit=1000):\n",
    "        if self.tracker_budget>=limit:\n",
    "            return True\n",
    "        else:\n",
    "            return \"Your opening balance is less than limit\"\n",
    "    \n",
    "    @staticmethod\n",
    "    def convert_amount(amount):\n",
    "            return float(amount)\n",
    "        \n",
    "    \n",
    "    # Factory Method\n",
    "    @classmethod\n",
    "    def get_attributes_fromstring(cls,diary_entry:str):\n",
    "        tracking_category,opening_balance,tracker_budget=diary_entry.split(\" \")\n",
    "        return ExpenseTracker(tracking_category.capitalize(),\n",
    "                             cls.convert_amount(opening_balance),\n",
    "                             cls.convert_amount(tracker_budget))\n"
   ]
  },
  {
   "cell_type": "code",
   "execution_count": 19,
   "id": "95ed1710",
   "metadata": {},
   "outputs": [
    {
     "data": {
      "text/plain": [
       "{'tracking_category': 'Shopping',\n",
       " 'original_balance': 100.0,\n",
       " 'tracker_budget': 5000.0}"
      ]
     },
     "execution_count": 19,
     "metadata": {},
     "output_type": "execute_result"
    }
   ],
   "source": [
    "ClassObject=ExpenseTracker.get_attributes_fromstring(\"shopping 100 5000\")\n",
    "ClassObject.__dict__"
   ]
  },
  {
   "cell_type": "code",
   "execution_count": 24,
   "id": "51217edd",
   "metadata": {},
   "outputs": [
    {
     "data": {
      "text/plain": [
       "{'tracking_category': 'Shopping',\n",
       " 'original_balance': 100.0,\n",
       " 'tracker_budget': 5000.0}"
      ]
     },
     "execution_count": 24,
     "metadata": {},
     "output_type": "execute_result"
    }
   ],
   "source": [
    "obj = ExpenseTracker(ClassObject.tracking_category,ClassObject.original_balance,ClassObject.tracker_budget)\n",
    "obj.__dict__"
   ]
  },
  {
   "cell_type": "code",
   "execution_count": 50,
   "id": "2e0cd743",
   "metadata": {},
   "outputs": [
    {
     "name": "stdout",
     "output_type": "stream",
     "text": [
      "the parent method is overiden by child\n"
     ]
    },
    {
     "data": {
      "text/plain": [
       "250.0"
      ]
     },
     "execution_count": 50,
     "metadata": {},
     "output_type": "execute_result"
    }
   ],
   "source": [
    "#Parent Class\n",
    "class Vehicle:\n",
    "    currentYear = 2021\n",
    "    basePrice = 1000\n",
    "    \n",
    "    def __init__(self,make,model):\n",
    "        self.make = make\n",
    "        #private attribute\n",
    "        self.__model = model\n",
    "        \n",
    "    def __private_method_parent(self):\n",
    "        print('this is private')\n",
    "        \n",
    "        \n",
    "    #Parent default method\n",
    "    def getValue(self):\n",
    "        age = Vehicle.currentYear - self.__model\n",
    "        print('default Parent metho')\n",
    "        return Vehicle.basePrice*(1/age)\n",
    "\n",
    "#Child Class        \n",
    "class Car(Vehicle):\n",
    "    def __init__(self,make,model,ac,sunroof):\n",
    "        super(Car,self).__init__(make,model)\n",
    "        self.ac = ac\n",
    "        self.sunroof = sunroof\n",
    "        \n",
    "    #now we can directly access the private method of parent\n",
    "    \n",
    "    #def showPrivateMethodofParent(self):\n",
    "    #    self._Vehicle__private_method_parent() # to make private method of parent class accesible in child class\n",
    "        \n",
    "    #OverRiding parent Method\n",
    "    def getValue(self):\n",
    "        Vehicle.basePrice = 5000\n",
    "        age = Vehicle.currentYear-self._Vehicle__model\n",
    "        print('the parent method is overiden by child')\n",
    "        return Vehicle.basePrice*(1/age)\n",
    "    \n",
    "        \n",
    "myobj = Car(\"tesla\",2001,True,True)\n",
    "#myobj._Vehicle__private_method_parent()\n",
    "myobj.getValue()\n",
    "\n",
    "\n",
    "\n"
   ]
  },
  {
   "cell_type": "code",
   "execution_count": 52,
   "id": "ad51738d",
   "metadata": {},
   "outputs": [
    {
     "name": "stdout",
     "output_type": "stream",
     "text": [
      "default Parent metho\n"
     ]
    },
    {
     "data": {
      "text/plain": [
       "625.0"
      ]
     },
     "execution_count": 52,
     "metadata": {},
     "output_type": "execute_result"
    }
   ],
   "source": [
    "myclaObj = Vehicle('ferrari',2013)\n",
    "myclaObj.getValue()"
   ]
  },
  {
   "cell_type": "code",
   "execution_count": 59,
   "id": "d2dc3036",
   "metadata": {},
   "outputs": [
    {
     "name": "stdout",
     "output_type": "stream",
     "text": [
      "A i calle\n"
     ]
    },
    {
     "data": {
      "text/plain": [
       "{}"
      ]
     },
     "execution_count": 59,
     "metadata": {},
     "output_type": "execute_result"
    }
   ],
   "source": [
    "class A:\n",
    "    def __init__(self):\n",
    "        print('A i calle')\n",
    "        \n",
    "class B:\n",
    "    def __init__(self):\n",
    "        print('B i calle')\n",
    "        \n",
    "class C(A,B):\n",
    "    def __init__(self):\n",
    "        super().__init__()\n",
    "        \n",
    "c=C()\n",
    "c.__dict__"
   ]
  },
  {
   "cell_type": "code",
   "execution_count": 60,
   "id": "f7382c05",
   "metadata": {},
   "outputs": [],
   "source": [
    "class Vehicle:\n",
    "    def __init__(self,make,model,fare):\n",
    "        self.make = make\n",
    "        self.model = model\n",
    "        self.fare = fare\n",
    "        \n",
    "    #def __str__(self):\n",
    "     #   return"
   ]
  },
  {
   "cell_type": "code",
   "execution_count": 61,
   "id": "624060b2",
   "metadata": {},
   "outputs": [],
   "source": [
    "myobj = Vehicle('maruti',2020,50)"
   ]
  },
  {
   "cell_type": "code",
   "execution_count": 62,
   "id": "f69a5cc7",
   "metadata": {},
   "outputs": [
    {
     "name": "stdout",
     "output_type": "stream",
     "text": [
      "<__main__.Vehicle object at 0x000001AE47496F40>\n"
     ]
    }
   ],
   "source": [
    "print(myobj)"
   ]
  }
 ],
 "metadata": {
  "kernelspec": {
   "display_name": "Python 3 (ipykernel)",
   "language": "python",
   "name": "python3"
  },
  "language_info": {
   "codemirror_mode": {
    "name": "ipython",
    "version": 3
   },
   "file_extension": ".py",
   "mimetype": "text/x-python",
   "name": "python",
   "nbconvert_exporter": "python",
   "pygments_lexer": "ipython3",
   "version": "3.9.13"
  }
 },
 "nbformat": 4,
 "nbformat_minor": 5
}
