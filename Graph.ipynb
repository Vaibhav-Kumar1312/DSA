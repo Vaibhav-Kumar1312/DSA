{
 "cells": [
  {
   "cell_type": "code",
   "execution_count": 1,
   "id": "36f7c559",
   "metadata": {},
   "outputs": [
    {
     "ename": "NameError",
     "evalue": "name 'self' is not defined",
     "output_type": "error",
     "traceback": [
      "\u001b[1;31m---------------------------------------------------------------------------\u001b[0m",
      "\u001b[1;31mNameError\u001b[0m                                 Traceback (most recent call last)",
      "\u001b[1;32m~\\AppData\\Local\\Temp\\ipykernel_15212\\1471070889.py\u001b[0m in \u001b[0;36m<module>\u001b[1;34m\u001b[0m\n\u001b[1;32m----> 1\u001b[1;33m \u001b[1;32mclass\u001b[0m \u001b[0mGraph\u001b[0m\u001b[1;33m(\u001b[0m\u001b[0mself\u001b[0m\u001b[1;33m,\u001b[0m\u001b[0mnVertice\u001b[0m\u001b[1;33m)\u001b[0m\u001b[1;33m:\u001b[0m\u001b[1;33m\u001b[0m\u001b[1;33m\u001b[0m\u001b[0m\n\u001b[0m\u001b[0;32m      2\u001b[0m     \u001b[0mself\u001b[0m\u001b[1;33m.\u001b[0m\u001b[0mnVertice\u001b[0m \u001b[1;33m=\u001b[0m \u001b[0mnVertice\u001b[0m\u001b[1;33m\u001b[0m\u001b[1;33m\u001b[0m\u001b[0m\n\u001b[0;32m      3\u001b[0m     \u001b[0mself\u001b[0m\u001b[1;33m.\u001b[0m\u001b[0madjMatrix\u001b[0m \u001b[1;33m=\u001b[0m \u001b[1;33m[\u001b[0m\u001b[1;33m[\u001b[0m\u001b[1;36m0\u001b[0m \u001b[1;32mfor\u001b[0m \u001b[0mj\u001b[0m \u001b[1;32min\u001b[0m \u001b[0mrange\u001b[0m\u001b[1;33m(\u001b[0m\u001b[0mnVertice\u001b[0m\u001b[1;33m)\u001b[0m\u001b[1;33m]\u001b[0m \u001b[1;32mfor\u001b[0m \u001b[0mi\u001b[0m \u001b[1;32min\u001b[0m \u001b[0mrange\u001b[0m\u001b[1;33m(\u001b[0m\u001b[0mnVertice\u001b[0m\u001b[1;33m)\u001b[0m\u001b[1;33m]\u001b[0m\u001b[1;33m\u001b[0m\u001b[1;33m\u001b[0m\u001b[0m\n\u001b[0;32m      4\u001b[0m \u001b[1;33m\u001b[0m\u001b[0m\n\u001b[0;32m      5\u001b[0m \u001b[1;33m\u001b[0m\u001b[0m\n",
      "\u001b[1;31mNameError\u001b[0m: name 'self' is not defined"
     ]
    }
   ],
   "source": [
    "class Graph:\n",
    "    def __init__(self,nVertice)\n",
    "    self.nVertice = nVertice\n",
    "    self.adjMatrix = [[0 for j in range(nVertice)] for i in range(nVertice)]\n",
    "    \n",
    "    def addEdge(self,v1,v2):\n",
    "        self.adjMatrix[v1][v2] = 1\n",
    "        self.adjMatrix[v2][v1] = 1\n",
    "        \n",
    "    def removeEdge(self,v1,v2):\n",
    "        if self.containsEdge(v1,v2) == False:\n",
    "            return\n",
    "        self.adjMatrix[v1][v2] = 0\n",
    "        self.adjMatrix[v2][v1] = 0\n",
    "        \n",
    "    def containsEdge(self,v1,v2):\n",
    "        return True if self.adjMatrix[v1][v2] >0 else False\n",
    "    \n",
    "    def dfs(self,sv):\n",
    "        "
   ]
  },
  {
   "cell_type": "code",
   "execution_count": 4,
   "id": "7abe1506",
   "metadata": {},
   "outputs": [
    {
     "data": {
      "text/plain": [
       "0"
      ]
     },
     "execution_count": 4,
     "metadata": {},
     "output_type": "execute_result"
    }
   ],
   "source": [
    "def maxiAnd(n, a):\n",
    "    # write your code here\n",
    "    maxAnd = a[0]\n",
    "    for i in range(1,n):\n",
    "        maxAnd = maxAnd&a[i]\n",
    "    print(maxAnd)\n",
    "# maxiAnd(4,[1,3])\n",
    "1&3&5&8"
   ]
  },
  {
   "cell_type": "code",
   "execution_count": 3,
   "id": "2d3e477f",
   "metadata": {},
   "outputs": [
    {
     "data": {
      "text/plain": [
       "[[], [], []]"
      ]
     },
     "execution_count": 3,
     "metadata": {},
     "output_type": "execute_result"
    }
   ],
   "source": [
    "# n,m = map(int,input().split())\n",
    "# print(n)\n",
    "# print(m)\n",
    "\n",
    "a = [[] for c in range(3)]\n",
    "a"
   ]
  },
  {
   "cell_type": "code",
   "execution_count": 15,
   "id": "88c46cbe",
   "metadata": {},
   "outputs": [
    {
     "name": "stdout",
     "output_type": "stream",
     "text": [
      "[[1], [0], [], [5, 4], [3], [3]]\n",
      "False\n"
     ]
    }
   ],
   "source": [
    "import queue\n",
    "class Graph:\n",
    "    def __init__(self,nVertices):\n",
    "        self.nVertices = nVertices\n",
    "        self.adjList = [[] for x in range(nVertices)]\n",
    "        \n",
    "    def addEdge(self,v1,v2):\n",
    "        self.adjList[v1].append(v2)\n",
    "        self.adjList[v2].append(v1)\n",
    "    \n",
    "    \n",
    "    def __bfsHelper(self,sv,visited):\n",
    "        q = queue.Queue()\n",
    "        q.put(sv)\n",
    "        visited[sv] = True\n",
    "        while q.empty() is False:\n",
    "            v = q.get()\n",
    "            print(v,end=\" \")\n",
    "            for el in self.adjList[sv]:\n",
    "                if visited[el] ==False:\n",
    "                    q.put(el)\n",
    "                    visited[el] = True\n",
    "    \n",
    "    def bfs(self,sv):\n",
    "        visited = [False for i in range(self.nVertices)]\n",
    "        for i in range(len(visited)):\n",
    "            if visited[i] == False:\n",
    "                self.__bfsHelper(i,visited)\n",
    "        print()\n",
    "    \n",
    "    def __dfsHelper(self,sv,visited):\n",
    "        visited[sv] = True\n",
    "        print(sv,end=\" \")\n",
    "        for i in self.adjList[sv]:\n",
    "            if visited[i] == False:\n",
    "                self.__dfsHelper(i,visited)\n",
    "                \n",
    "                \n",
    "    def dfs(self,sv):\n",
    "        visited = [False for i in range(self.nVertices)]\n",
    "#         print(visited)\n",
    "        for i in range(len(visited)):\n",
    "            if visited[i] == False:\n",
    "                self.__dfsHelper(i,visited)\n",
    "        print()\n",
    "        \n",
    "    def hasPath(self,v1,v2):\n",
    "        visited = [False for i in range(self.nVertices)]\n",
    "        def hasPathHelper(v1,v2,visited):\n",
    "            if v1==v2:\n",
    "                return True\n",
    "            visited[v1] = True\n",
    "            for i in self.adjList[v1]:\n",
    "                if visited[i]==False:\n",
    "                    return hasPathHelper(i,v2,visited)\n",
    "            return False\n",
    "        return hasPathHelper(v1,v2,visited)\n",
    "        \n",
    "\n",
    "# n,e = map(int,input().split())\n",
    "g = Graph(6)\n",
    "# for i in range(e):\n",
    "#     v1,v2 = map(int,input().split())\n",
    "#     g.addEdge(v1,v2)\n",
    "# g.addEdge(0,2)\n",
    "# g.addEdge(0,3)\n",
    "# g.addEdge(1,2)\n",
    "# g.addEdge(1,3)\n",
    "# g.addEdge(2,3)\n",
    "g.addEdge(5,3)\n",
    "g.addEdge(0,1)\n",
    "g.addEdge(3,4)\n",
    "\n",
    "print(g.adjList)\n",
    "# g.bfs(0)\n",
    "# g.dfs(0)\n",
    "print(g.hasPath(0,3))"
   ]
  }
 ],
 "metadata": {
  "kernelspec": {
   "display_name": "Python 3 (ipykernel)",
   "language": "python",
   "name": "python3"
  },
  "language_info": {
   "codemirror_mode": {
    "name": "ipython",
    "version": 3
   },
   "file_extension": ".py",
   "mimetype": "text/x-python",
   "name": "python",
   "nbconvert_exporter": "python",
   "pygments_lexer": "ipython3",
   "version": "3.9.13"
  }
 },
 "nbformat": 4,
 "nbformat_minor": 5
}
