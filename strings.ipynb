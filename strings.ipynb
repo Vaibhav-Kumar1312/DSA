{
 "cells": [
  {
   "cell_type": "markdown",
   "id": "d63ff471",
   "metadata": {},
   "source": [
    "### Count Vowels, consonants, digits and specail caharcters"
   ]
  },
  {
   "cell_type": "code",
   "execution_count": 7,
   "id": "67a1cdd1",
   "metadata": {},
   "outputs": [
    {
     "name": "stdout",
     "output_type": "stream",
     "text": [
      "20\n",
      "6 7 5 2\n"
     ]
    }
   ],
   "source": [
    "def countInstr(str):\n",
    "    v,c,d,s = 0,0,0,0\n",
    "    print(len(str))\n",
    "    for char in str:\n",
    "        if (char >= \"a\" and char<='z') or (char>='A' and char<='Z'):\n",
    "            char = char.lower()\n",
    "            if (char=='a' or char=='e' or char=='i' or char=='o' or char=='u'):\n",
    "                v += 1\n",
    "            else:\n",
    "                c+=1\n",
    "        elif (char>='0' and char<='9'):\n",
    "            d += 1\n",
    "        else:\n",
    "            s +=1\n",
    "    print(v,c,d,s)\n",
    "    \n",
    "countInstr('jacegfiunxef354e64^&')"
   ]
  },
  {
   "cell_type": "markdown",
   "id": "9f6164cd",
   "metadata": {},
   "source": [
    "### check permutation"
   ]
  },
  {
   "cell_type": "code",
   "execution_count": 1,
   "id": "472403c9",
   "metadata": {},
   "outputs": [
    {
     "name": "stdout",
     "output_type": "stream",
     "text": [
      "3\n",
      "4\n",
      "false\n"
     ]
    }
   ],
   "source": [
    "def isPermutation(string1, string2) :\n",
    "    #Your code goes here\n",
    "    \n",
    "    \n",
    "x = isPermutation('abc','baab')\n",
    "print(x)"
   ]
  },
  {
   "cell_type": "markdown",
   "id": "3b9d1652",
   "metadata": {},
   "source": [
    "remove duplicate character"
   ]
  },
  {
   "cell_type": "code",
   "execution_count": 4,
   "id": "5462dacc",
   "metadata": {},
   "outputs": [
    {
     "name": "stdout",
     "output_type": "stream",
     "text": [
      "abca\n"
     ]
    }
   ],
   "source": [
    "def removeConsecutiveDuplicates(string) :\n",
    "    # Your code goes here\n",
    "    nwtr = string[0]\n",
    "    prev = string[0]\n",
    "    for i in range(1,len(string)):\n",
    "        if prev != string[i]:\n",
    "            nwtr += string[i]\n",
    "            prev = string[i]\n",
    "    print(nwtr)\n",
    "        \n",
    "    \n",
    "    \n",
    "    \n",
    "    \n",
    "removeConsecutiveDuplicates(\"aabbbcaaa\")"
   ]
  },
  {
   "cell_type": "markdown",
   "id": "0655389e",
   "metadata": {},
   "source": [
    "reverse each word"
   ]
  },
  {
   "cell_type": "code",
   "execution_count": 14,
   "id": "c4503639",
   "metadata": {},
   "outputs": [
    {
     "name": "stdout",
     "output_type": "stream",
     "text": [
      "olleh i ma vahbiav\n"
     ]
    }
   ],
   "source": [
    "def revEachWor(char):\n",
    "    arr = char.split()\n",
    "    for i in range(len(arr)):\n",
    "        temp = arr[i]\n",
    "        arr[i] = temp[len(temp)::-1]\n",
    "    return \" \".join(arr)\n",
    "    \n",
    "    \n",
    "out = revEachWor(\"hello i am vaibhav\")\n",
    "print(out)"
   ]
  },
  {
   "cell_type": "code",
   "execution_count": 19,
   "id": "0bcff1c9",
   "metadata": {},
   "outputs": [
    {
     "data": {
      "text/plain": [
       "65"
      ]
     },
     "execution_count": 19,
     "metadata": {},
     "output_type": "execute_result"
    }
   ],
   "source": [
    "ord('A')"
   ]
  },
  {
   "cell_type": "markdown",
   "id": "a3e424d1",
   "metadata": {},
   "source": [
    "### Highest occuring character"
   ]
  },
  {
   "cell_type": "code",
   "execution_count": 24,
   "id": "5df3a718",
   "metadata": {},
   "outputs": [
    {
     "name": "stdout",
     "output_type": "stream",
     "text": [
      "y\n"
     ]
    }
   ],
   "source": [
    "def highestOccuringChar(string):\n",
    "    acii = 256\n",
    "    charCount = [0]*acii\n",
    "    max = -1\n",
    "    char = \"\"\n",
    "    for i in range(len(string)):\n",
    "        charCount[ord(string[i])] += 1\n",
    "    for i in string:\n",
    "        if charCount[ord(i)] > max:\n",
    "            max = charCount[ord(i)]\n",
    "            char = i\n",
    "    print(char)\n",
    "    \n",
    "highestOccuringChar(\"xxyyyyyxx\")"
   ]
  },
  {
   "cell_type": "markdown",
   "id": "4133d948",
   "metadata": {},
   "source": [
    "string compression"
   ]
  },
  {
   "cell_type": "code",
   "execution_count": 45,
   "id": "b10535f4",
   "metadata": {},
   "outputs": [
    {
     "name": "stdout",
     "output_type": "stream",
     "text": [
      "65\n",
      "A\n",
      "3\n",
      "A3\n",
      "66\n",
      "B\n",
      "3\n",
      "B3\n",
      "97\n",
      "a\n",
      "2\n",
      "a2\n",
      "A3B3a2c\n"
     ]
    }
   ],
   "source": [
    "def getCompressedString(input) :\n",
    "    # Write your code here.\n",
    "    count = [0]*256\n",
    "    char1 = \"\"\n",
    "    for i in input:\n",
    "        count[ord(i)] += 1\n",
    "    for i in range(len(count)):\n",
    "        if count[i] > 1:\n",
    "            print(i)\n",
    "            ch = chr(i)\n",
    "            num = count[i]\n",
    "            print(ch)\n",
    "            print(num)\n",
    "            chNum = ch + str(num)\n",
    "            print(chNum)\n",
    "            char1 += chNum\n",
    "        if (count[i] == 1):\n",
    "            char0 = chr(i)\n",
    "            char1 += char0\n",
    "    return char1\n",
    "\n",
    "o = getCompressedString(\"AAABcBBaa\")\n",
    "print(o)"
   ]
  },
  {
   "cell_type": "code",
   "execution_count": 1,
   "id": "817b4074",
   "metadata": {},
   "outputs": [
    {
     "name": "stdout",
     "output_type": "stream",
     "text": [
      "ab3a6c2da3b\n"
     ]
    }
   ],
   "source": [
    "def solve(s):\n",
    "   res = \"\"\n",
    "   cnt = 1\n",
    "   for i in range(1, len(s)):\n",
    "      if s[i - 1] == s[i]:\n",
    "         cnt += 1\n",
    "      else:\n",
    "         res = res + s[i - 1]\n",
    "         if cnt > 1:\n",
    "            res += str(cnt)\n",
    "         cnt = 1\n",
    "   res = res + s[-1]\n",
    "   if cnt > 1:\n",
    "      res += str(cnt)\n",
    "   return res\n",
    "\n",
    "s = \"abbbaaaaaaccdaaab\"\n",
    "print(solve(s))"
   ]
  }
 ],
 "metadata": {
  "kernelspec": {
   "display_name": "Python 3 (ipykernel)",
   "language": "python",
   "name": "python3"
  },
  "language_info": {
   "codemirror_mode": {
    "name": "ipython",
    "version": 3
   },
   "file_extension": ".py",
   "mimetype": "text/x-python",
   "name": "python",
   "nbconvert_exporter": "python",
   "pygments_lexer": "ipython3",
   "version": "3.9.13"
  }
 },
 "nbformat": 4,
 "nbformat_minor": 5
}
