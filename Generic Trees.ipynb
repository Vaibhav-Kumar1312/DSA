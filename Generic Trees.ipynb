{
 "cells": [
  {
   "cell_type": "code",
   "execution_count": 40,
   "id": "83d0457c",
   "metadata": {},
   "outputs": [],
   "source": [
    "class TreeNode:\n",
    "    def __init__(self,data):\n",
    "        self.data = data\n",
    "        self.children = []"
   ]
  },
  {
   "cell_type": "code",
   "execution_count": 41,
   "id": "10ffece6",
   "metadata": {},
   "outputs": [],
   "source": [
    "def printTreeDetailed(root):\n",
    "    if root == None:\n",
    "        return \n",
    "    \n",
    "    print(root.data,':',end='')\n",
    "    for child in root.children:\n",
    "        print(child.data,',',end='')\n",
    "    print()\n",
    "    for child in root.children:\n",
    "        printTreeDetailed(child)"
   ]
  },
  {
   "cell_type": "code",
   "execution_count": null,
   "id": "367df962",
   "metadata": {},
   "outputs": [],
   "source": [
    "import queue\n",
    "def printLevelWiseTree(tree):\n",
    "    if tree == None:\n",
    "        return\n",
    "    q = queue.Queue()\n",
    "    q.put(tree)\n",
    "    #print(tree.data)\n",
    "    while (not(q.empty())):\n",
    "        curr = q.get()\n",
    "        print(curr.data,end=':')\n",
    "        for i in range(len(curr.children)):\n",
    "            if i == len(curr.children)-1:\n",
    "                print(curr.children[i].data,end='')\n",
    "            else:\n",
    "                print(curr.children[i].data,end=',')\n",
    "            q.put(curr.children[i])\n",
    "        print()"
   ]
  },
  {
   "cell_type": "code",
   "execution_count": 42,
   "id": "c881a269",
   "metadata": {},
   "outputs": [],
   "source": [
    "def numNodes(root):\n",
    "    if root==None:\n",
    "        return 0\n",
    "    count=1\n",
    "    for child in root.children:\n",
    "        count=count+numNodes(child)\n",
    "    return count"
   ]
  },
  {
   "cell_type": "code",
   "execution_count": 43,
   "id": "1911a96d",
   "metadata": {},
   "outputs": [],
   "source": [
    "def takeTreeInput():\n",
    "    print('Enter root')\n",
    "    rootData = int(input())\n",
    "    if rootData == -1:\n",
    "        return\n",
    "    root = TreeNode(rootData)\n",
    "    print('enter number of children for',rootData)\n",
    "    childrenCount = int(input())\n",
    "    for i in range(childrenCount):\n",
    "          child = takeTreeInput()\n",
    "          root.children.append(child)\n",
    "    return root"
   ]
  },
  {
   "cell_type": "code",
   "execution_count": 44,
   "id": "2f57ddc0",
   "metadata": {},
   "outputs": [],
   "source": [
    "import queue\n",
    "def takeTreeInputLevelWise():\n",
    "    q = queue.Queue()\n",
    "    print('Enter Root Data')\n",
    "    rootData = int(input())\n",
    "    if rootData == -1:\n",
    "        return None\n",
    "    root = TreeNode(rootData)\n",
    "    q.put(root)\n",
    "    while (not(q.empty())):\n",
    "        currNode = q.get()\n",
    "        print('Enter num of children for',currNode.data)\n",
    "        numNodes = int(input())\n",
    "        for i in range(numNodes):\n",
    "            print('enter child of',currNode.data)\n",
    "            childData = int(input())\n",
    "            child = TreeNode(childData)\n",
    "            currNode.children.append(child)\n",
    "            q.put(child)\n",
    "    return root\n",
    "    "
   ]
  },
  {
   "cell_type": "code",
   "execution_count": 45,
   "id": "2b0e76c7",
   "metadata": {},
   "outputs": [
    {
     "name": "stdout",
     "output_type": "stream",
     "text": [
      "Enter Root Data\n",
      "8\n",
      "Enter num of children for 8\n",
      "3\n",
      "enter child of 8\n",
      "9\n",
      "enter child of 8\n",
      "5\n",
      "enter child of 8\n",
      "10\n",
      "Enter num of children for 9\n",
      "0\n",
      "Enter num of children for 5\n",
      "3\n",
      "enter child of 5\n",
      "2\n",
      "enter child of 5\n",
      "6\n",
      "enter child of 5\n",
      "7\n",
      "Enter num of children for 10\n",
      "0\n",
      "Enter num of children for 2\n",
      "0\n",
      "Enter num of children for 6\n",
      "0\n",
      "Enter num of children for 7\n",
      "0\n",
      "8 :9 ,5 ,10 ,\n",
      "9 :\n",
      "5 :2 ,6 ,7 ,\n",
      "2 :\n",
      "6 :\n",
      "7 :\n",
      "10 :\n"
     ]
    }
   ],
   "source": [
    "root=takeTreeInputLevelWise()\n",
    "printTreeDetailed(root)"
   ]
  }
 ],
 "metadata": {
  "kernelspec": {
   "display_name": "Python 3 (ipykernel)",
   "language": "python",
   "name": "python3"
  },
  "language_info": {
   "codemirror_mode": {
    "name": "ipython",
    "version": 3
   },
   "file_extension": ".py",
   "mimetype": "text/x-python",
   "name": "python",
   "nbconvert_exporter": "python",
   "pygments_lexer": "ipython3",
   "version": "3.9.13"
  }
 },
 "nbformat": 4,
 "nbformat_minor": 5
}
