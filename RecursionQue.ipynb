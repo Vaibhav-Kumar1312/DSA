{
 "cells": [
  {
   "cell_type": "code",
   "execution_count": 8,
   "id": "79d8582a",
   "metadata": {},
   "outputs": [
    {
     "name": "stdout",
     "output_type": "stream",
     "text": [
      "s--d\n"
     ]
    }
   ],
   "source": [
    "#Tower of hanoi\n",
    "def hanoi(n,s,h,d):\n",
    "    if n==1:\n",
    "        print(s+\"--\"+d)\n",
    "        return\n",
    "    \n",
    "    hanoi(n-1,s,d,h)\n",
    "    print(s+'--'+d)\n",
    "    hanoi(n-1,h,s,d)\n",
    "\n",
    "hanoi(1,'s','h','d')"
   ]
  },
  {
   "cell_type": "code",
   "execution_count": 6,
   "id": "dae03bd4",
   "metadata": {},
   "outputs": [
    {
     "name": "stdout",
     "output_type": "stream",
     "text": [
      "abijklffxxxxxxxxxx\n",
      "a\n"
     ]
    }
   ],
   "source": [
    "#Move all \"x\" to the end of string\n",
    "def moveAllx(st,i = 0,ct = 0,newst = \"\"):\n",
    "    if i == len(st):\n",
    "#         print(newst)\n",
    "        for i in range(ct):\n",
    "            newst += 'x'\n",
    "        print(newst)\n",
    "        return\n",
    "    \n",
    "    if st[i] != 'x':\n",
    "        newst += st[i]\n",
    "        moveAllx(st,i+1,ct,newst)\n",
    "    else:\n",
    "        ct += 1\n",
    "        moveAllx(st,i+1,ct,newst)\n",
    "    return newst\n",
    "        \n",
    "a = moveAllx('axxbxxixxjxxxxklff')\n",
    "print(a)\n",
    "        "
   ]
  },
  {
   "cell_type": "code",
   "execution_count": 3,
   "id": "6ea8b419",
   "metadata": {},
   "outputs": [
    {
     "name": "stdout",
     "output_type": "stream",
     "text": [
      "[5, 4, 3, 2, 1]\n"
     ]
    }
   ],
   "source": [
    "#reverse a stack\n",
    "def insert(st,ele):\n",
    "    if len(st) == 0:\n",
    "        st.append(ele)\n",
    "        return st\n",
    "    temp = st.pop()\n",
    "    a = insert(st,ele)\n",
    "    a.append(temp)\n",
    "    return a\n",
    "    \n",
    "def reverse(s):\n",
    "    if len(s) == 1:\n",
    "        return\n",
    "    temp = s.pop()\n",
    "    delMi(s)\n",
    "    b = insert(s,temp)\n",
    "    return b\n",
    "    \n",
    "\n",
    "n = delMi([1,2,3,4,5])\n",
    "print(n)"
   ]
  },
  {
   "cell_type": "code",
   "execution_count": 11,
   "id": "c9f14b03",
   "metadata": {},
   "outputs": [
    {
     "name": "stdout",
     "output_type": "stream",
     "text": [
      "0\n"
     ]
    }
   ],
   "source": [
    "#Kth Grammar\n",
    "def kthGrammar(n, k):\n",
    "    if n==1 and k==1:\n",
    "        return 0\n",
    "    mid = (2**(n-1))/2\n",
    "    if k <= mid:\n",
    "        return kthGrammar(n-1,k)\n",
    "    else:\n",
    "        a = kthGrammar(n-1,k-mid)\n",
    "        if a==0:\n",
    "            return 1\n",
    "        else:\n",
    "            return 0\n",
    "        \n",
    "        \n",
    "print(kthGrammar(3,4))"
   ]
  },
  {
   "cell_type": "code",
   "execution_count": 15,
   "id": "01757d10",
   "metadata": {},
   "outputs": [
    {
     "name": "stdout",
     "output_type": "stream",
     "text": [
      "1\n"
     ]
    }
   ],
   "source": [
    "b = 0\n",
    "\n",
    "a = int(not b)\n",
    "print(a)"
   ]
  },
  {
   "cell_type": "code",
   "execution_count": 20,
   "id": "2e1e9705",
   "metadata": {},
   "outputs": [
    {
     "name": "stdout",
     "output_type": "stream",
     "text": [
      "\n",
      "b\n",
      "a\n",
      "ab\n",
      "a\n",
      "ab\n",
      "aa\n",
      "aab\n"
     ]
    }
   ],
   "source": [
    "#print unique subset of a string\n",
    "def unique(a,out =\"\",an=[]):\n",
    "    if len(a) == 0:\n",
    "        return [\"\"]\n",
    "\n",
    "unique(\"aab\")"
   ]
  }
 ],
 "metadata": {
  "kernelspec": {
   "display_name": "Python 3 (ipykernel)",
   "language": "python",
   "name": "python3"
  },
  "language_info": {
   "codemirror_mode": {
    "name": "ipython",
    "version": 3
   },
   "file_extension": ".py",
   "mimetype": "text/x-python",
   "name": "python",
   "nbconvert_exporter": "python",
   "pygments_lexer": "ipython3",
   "version": "3.9.13"
  }
 },
 "nbformat": 4,
 "nbformat_minor": 5
}
