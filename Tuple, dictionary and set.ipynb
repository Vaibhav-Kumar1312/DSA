{
 "cells": [
  {
   "cell_type": "code",
   "execution_count": 5,
   "id": "7f33bf8a",
   "metadata": {},
   "outputs": [
    {
     "name": "stdout",
     "output_type": "stream",
     "text": [
      "<class 'tuple'>\n",
      "<class 'tuple'>\n"
     ]
    }
   ],
   "source": [
    "#this is a tuple they are like list, they are immutable\n",
    "tpl = (1,2,3)\n",
    "a = 1,2,3\n",
    "print(type(a))\n",
    "print(type(tpl))"
   ]
  },
  {
   "cell_type": "markdown",
   "id": "97615bef",
   "metadata": {},
   "source": [
    "### Print highest freq word"
   ]
  },
  {
   "cell_type": "code",
   "execution_count": 1,
   "id": "32e1f22e",
   "metadata": {},
   "outputs": [
    {
     "name": "stdout",
     "output_type": "stream",
     "text": [
      "this\n",
      "is\n",
      "cool\n",
      "{'this': 1, 'is': 1, 'very': 3, 'cool': 1}\n"
     ]
    }
   ],
   "source": [
    "def printHighFreqWord(str,k):\n",
    "    wordArr = str.split()\n",
    "    obj = {}\n",
    "    for w in wordArr:\n",
    "        obj[w] = obj.get(w,0) + 1\n",
    "    for w in obj:\n",
    "        if obj[w]==k:\n",
    "            print(w)\n",
    "    print(obj)\n",
    "            \n",
    "s = \"this is very very very cool\"\n",
    "printHighFreqWord(s,1)"
   ]
  },
  {
   "cell_type": "code",
   "execution_count": 12,
   "id": "d1a55752",
   "metadata": {},
   "outputs": [
    {
     "data": {
      "text/plain": [
       "True"
      ]
     },
     "execution_count": 12,
     "metadata": {},
     "output_type": "execute_result"
    }
   ],
   "source": [
    "#check permutation by dictionary\n",
    "def checkPermutation(a,b):\n",
    "    obj = {}\n",
    "    for i in a:\n",
    "        obj[i] = obj.get(i,0) + 1\n",
    "    for j in b:\n",
    "        if obj.get(j,0) == 0:\n",
    "            return False\n",
    "        else:\n",
    "            obj[j] -= 1\n",
    "    return True\n",
    "        \n",
    "    \n",
    "checkPermutation('bcaa','acab')"
   ]
  }
 ],
 "metadata": {
  "kernelspec": {
   "display_name": "Python 3 (ipykernel)",
   "language": "python",
   "name": "python3"
  },
  "language_info": {
   "codemirror_mode": {
    "name": "ipython",
    "version": 3
   },
   "file_extension": ".py",
   "mimetype": "text/x-python",
   "name": "python",
   "nbconvert_exporter": "python",
   "pygments_lexer": "ipython3",
   "version": "3.9.13"
  }
 },
 "nbformat": 4,
 "nbformat_minor": 5
}
