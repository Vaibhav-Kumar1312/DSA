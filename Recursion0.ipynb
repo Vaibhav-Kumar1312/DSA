{
 "cells": [
  {
   "cell_type": "code",
   "execution_count": 13,
   "id": "6f8b241a",
   "metadata": {},
   "outputs": [],
   "source": [
    "#n = int(input())\n",
    "#print(n)"
   ]
  },
  {
   "cell_type": "code",
   "execution_count": 20,
   "id": "680ac0fd",
   "metadata": {},
   "outputs": [],
   "source": [
    "#Factorial of 'n' natural number\n",
    "def factorial(n):\n",
    "    if n==1:\n",
    "        return 1\n",
    "    return factorial(n-1)*n"
   ]
  },
  {
   "cell_type": "code",
   "execution_count": 18,
   "id": "5441df15",
   "metadata": {},
   "outputs": [],
   "source": [
    "#sum of 'n' natural numbers\n",
    "def sumNum(n):\n",
    "    if n==0:\n",
    "        return 0\n",
    "    smallerNum = sumNum(n-1)\n",
    "    output = smallerNum + n\n",
    "    return output"
   ]
  },
  {
   "cell_type": "code",
   "execution_count": 21,
   "id": "b050201a",
   "metadata": {},
   "outputs": [
    {
     "name": "stdout",
     "output_type": "stream",
     "text": [
      "enter integer 10\n",
      "sum 55\n",
      "factorial 3628800\n"
     ]
    }
   ],
   "source": [
    "num = int(input(\"enter integer \"))\n",
    "print(\"sum\",sumNum(num))\n",
    "print(\"factorial\",factorial(num))"
   ]
  },
  {
   "cell_type": "code",
   "execution_count": 26,
   "id": "dadecf42",
   "metadata": {},
   "outputs": [
    {
     "data": {
      "text/plain": [
       "8"
      ]
     },
     "execution_count": 26,
     "metadata": {},
     "output_type": "execute_result"
    }
   ],
   "source": [
    "# nth Fibonacci number\n",
    "def fib(n):\n",
    "    if n==1 or n==2:\n",
    "        return 1\n",
    "    fib_1 = fib(n-1)\n",
    "    fib_2 = fib(n-2)\n",
    "    output = fib_2+fib_1\n",
    "    return output\n",
    "\n",
    "fib(6)"
   ]
  },
  {
   "cell_type": "code",
   "execution_count": 3,
   "id": "8dd80d7b",
   "metadata": {},
   "outputs": [
    {
     "data": {
      "text/plain": [
       "'true'"
      ]
     },
     "execution_count": 3,
     "metadata": {},
     "output_type": "execute_result"
    }
   ],
   "source": [
    "def is_sorted(arr):\n",
    "    l = len(arr)\n",
    "    if (l==0 or l==1):\n",
    "        return True\n",
    "    if (arr[0]>arr[1]):\n",
    "        return False\n",
    "    smallerLi = arr[1:]\n",
    "    output = is_sorted(smallerLi)\n",
    "    if output:\n",
    "        return \"true\"\n",
    "    else:\n",
    "        return \"fale\"\n",
    "a=[1,2,3,4,5,6,7,8]\n",
    "is_sorted(a)"
   ]
  },
  {
   "cell_type": "code",
   "execution_count": 4,
   "id": "71da74f8",
   "metadata": {},
   "outputs": [
    {
     "data": {
      "text/plain": [
       "True"
      ]
     },
     "execution_count": 4,
     "metadata": {},
     "output_type": "execute_result"
    }
   ],
   "source": [
    "def isSorted(a):\n",
    "    l=len(a)\n",
    "    if l==0 or l==1:\n",
    "        return True\n",
    "    if a[0]>a[1]:\n",
    "        return False\n",
    "    smallerList=a[1:]\n",
    "    isSmallerListSorted=isSorted(smallerList)\n",
    "    if isSmallerListSorted:\n",
    "        return True\n",
    "    else:\n",
    "        return False\n",
    "\n",
    "a=[1,2,3,4,5,6,7,8,9]\n",
    "isSorted(a)"
   ]
  },
  {
   "cell_type": "code",
   "execution_count": 8,
   "id": "83a7c806",
   "metadata": {},
   "outputs": [
    {
     "name": "stdout",
     "output_type": "stream",
     "text": [
      "1\n"
     ]
    }
   ],
   "source": [
    "def sumArray(arr):\n",
    "    n = len(arr)\n",
    "    if len(arr)==1:\n",
    "        return arr[0]\n",
    "    smallAn = sumArray(arr[:n-1])\n",
    "    return smallAn + arr[n-1]\n",
    "\n",
    "\n",
    "\n",
    "sumArray([1,2,3,4,5])\n",
    "print(len([1]))"
   ]
  },
  {
   "cell_type": "code",
   "execution_count": 14,
   "id": "70fa781f",
   "metadata": {},
   "outputs": [
    {
     "data": {
      "text/plain": [
       "True"
      ]
     },
     "execution_count": 14,
     "metadata": {},
     "output_type": "execute_result"
    }
   ],
   "source": [
    "def is_sortedBetter(arr,inx):\n",
    "    l = len(arr)\n",
    "    if inx == l-1 or inx == l:\n",
    "        return True\n",
    "    if arr[inx] > arr[inx+1]:\n",
    "        return False\n",
    "    smallerPartInx = is_sorted(arr,inx+1)\n",
    "    return smallerPartInx\n",
    "\n",
    "is_sortedBetter([1,2,3,4,5],0)"
   ]
  },
  {
   "cell_type": "code",
   "execution_count": 24,
   "id": "dea9b807",
   "metadata": {},
   "outputs": [
    {
     "name": "stdout",
     "output_type": "stream",
     "text": [
      "3\n"
     ]
    }
   ],
   "source": [
    "arr = [1,2,3,4]\n",
    "i = arr.index(3) + 1\n",
    "print(i)"
   ]
  },
  {
   "cell_type": "code",
   "execution_count": 44,
   "id": "c883a5f2",
   "metadata": {},
   "outputs": [
    {
     "data": {
      "text/plain": [
       "-1"
      ]
     },
     "execution_count": 44,
     "metadata": {},
     "output_type": "execute_result"
    }
   ],
   "source": [
    "#arry slicing\n",
    "def firstIndex(arr,x):\n",
    "    l = len(arr)\n",
    "    if l == 0:\n",
    "        return -1\n",
    "    if arr[0] == x:\n",
    "        i = arr.index(arr[0])\n",
    "        return i\n",
    "    smallerArr = arr[1:]\n",
    "    smallerOutput = firstIndex(smallerArr,x)\n",
    "    if smallerOutput == -1:\n",
    "        return -1\n",
    "    else:\n",
    "        return smallerOutput + 1\n",
    "    \n",
    "findIndex([1,2,3,4],5)"
   ]
  },
  {
   "cell_type": "code",
   "execution_count": 54,
   "id": "c663b8e6",
   "metadata": {},
   "outputs": [
    {
     "data": {
      "text/plain": [
       "1"
      ]
     },
     "execution_count": 54,
     "metadata": {},
     "output_type": "execute_result"
    }
   ],
   "source": [
    "#shifting starting index\n",
    "def findIndex(arr,x,fi):\n",
    "    l = len(arr)\n",
    "    if fi == l:\n",
    "        return -1\n",
    "    if arr[fi] == x:\n",
    "        return fi\n",
    "    nxtFi = fi + 1\n",
    "    return findIndex(arr,x,nxtFi)\n",
    "\n",
    "findIndex([1,2,3,4,2],2,0)"
   ]
  },
  {
   "cell_type": "code",
   "execution_count": 2,
   "id": "51e02fe6",
   "metadata": {},
   "outputs": [
    {
     "data": {
      "text/plain": [
       "-1"
      ]
     },
     "execution_count": 2,
     "metadata": {},
     "output_type": "execute_result"
    }
   ],
   "source": [
    "#by slicing\n",
    "def lastIndex(arr,x):\n",
    "    l = len(arr)\n",
    "    if l == 0:\n",
    "        return -1\n",
    "    smallerArr = arr[1:]\n",
    "    smallerArrOutput = lastIndex(smallerArr,x)\n",
    "    if smallerArrOutput != -1:\n",
    "        return smallerArrOutput + 1\n",
    "    else:\n",
    "        if arr[0] == x:\n",
    "            return 0\n",
    "        else:\n",
    "            return -1\n",
    "\n",
    "n=int(input()) \n",
    "arr=list(int(i) for i in input().strip().split(' '))\n",
    "x=int(input())\n",
    "print(firstIndex(arr, x))"
   ]
  },
  {
   "cell_type": "code",
   "execution_count": null,
   "id": "4498668f",
   "metadata": {},
   "outputs": [],
   "source": [
    "# by shifting index\n",
    "def lastIndex(arr,x,li):\n",
    "    \n",
    "    "
   ]
  },
  {
   "cell_type": "markdown",
   "id": "abcec063",
   "metadata": {},
   "source": [
    "### With string"
   ]
  },
  {
   "cell_type": "code",
   "execution_count": 7,
   "id": "3d1445e6",
   "metadata": {},
   "outputs": [
    {
     "data": {
      "text/plain": [
       "'xxxxxxx'"
      ]
     },
     "execution_count": 7,
     "metadata": {},
     "output_type": "execute_result"
    }
   ],
   "source": [
    "#replace character\n",
    "def replaceChar(str,a,b):\n",
    "    if len(str) == 0:\n",
    "        return str\n",
    "    smallOutput = replaceChar(str[1:],a,b)\n",
    "    if str[0]==a:\n",
    "        return b+smallOutput\n",
    "    else:\n",
    "        return str[0]+smallOutput\n",
    "    \n",
    "replaceChar(\"xyxyxyx\",\"y\",\"x\")"
   ]
  },
  {
   "cell_type": "code",
   "execution_count": 10,
   "id": "5cda201a",
   "metadata": {},
   "outputs": [
    {
     "data": {
      "text/plain": [
       "1"
      ]
     },
     "execution_count": 10,
     "metadata": {},
     "output_type": "execute_result"
    }
   ],
   "source": [
    "a = 'a'\n",
    "len(a)"
   ]
  },
  {
   "cell_type": "code",
   "execution_count": 12,
   "id": "05108220",
   "metadata": {},
   "outputs": [
    {
     "data": {
      "text/plain": [
       "'abc3.14'"
      ]
     },
     "execution_count": 12,
     "metadata": {},
     "output_type": "execute_result"
    }
   ],
   "source": [
    "# replace \"pi\"\n",
    "def replacePi(str):\n",
    "    if len(str)==0 or len(str)==1:\n",
    "        return str\n",
    "    if str[0]=='p' and str[1]=='i':\n",
    "        smallOutput = replacePi(str[2:])\n",
    "        return '3.14'+smallOutput\n",
    "    else:\n",
    "        smallOutput = replacePi(str[1:])\n",
    "        return str[0]+smallOutput\n",
    "    \n",
    "replacePi('abcpi')\n",
    "        "
   ]
  },
  {
   "cell_type": "code",
   "execution_count": 1,
   "id": "2ebbec21",
   "metadata": {},
   "outputs": [
    {
     "data": {
      "text/plain": [
       "'abcjkl'"
      ]
     },
     "execution_count": 1,
     "metadata": {},
     "output_type": "execute_result"
    }
   ],
   "source": [
    "#remove consecutive duplicate\n",
    "def remove(str):\n",
    "    if len(str) == 0 or len(str) == 1:\n",
    "        return str\n",
    "    smallOutput = remove(str[1:])\n",
    "    if str[0] == smallOutput[0]:\n",
    "        return smallOutput\n",
    "    else:\n",
    "        return str[0]+smallOutput\n",
    "\n",
    "remove('aabccccjjjjkkllll')"
   ]
  },
  {
   "cell_type": "code",
   "execution_count": 5,
   "id": "c70bdfbc",
   "metadata": {},
   "outputs": [
    {
     "data": {
      "text/plain": [
       "7"
      ]
     },
     "execution_count": 5,
     "metadata": {},
     "output_type": "execute_result"
    }
   ],
   "source": [
    "#binary search\n",
    "def binary_search(arr,x,lb,ub):\n",
    "    if lb>ub:\n",
    "        return -1\n",
    "    mi = (lb+ub)//2\n",
    "    if arr[mi] == x:\n",
    "        return mi\n",
    "    elif arr[mi] > x:\n",
    "        return binary_search(arr,x,lb,mi-1)\n",
    "    else:\n",
    "        return binary_search(arr,x,mi+1,ub)\n",
    "    \n",
    "binary_search([1,2,3,4,5,6,7,8,9],8,0,9)"
   ]
  },
  {
   "cell_type": "code",
   "execution_count": 45,
   "id": "eba25ccf",
   "metadata": {},
   "outputs": [
    {
     "name": "stdout",
     "output_type": "stream",
     "text": [
      "[0, 0]\n"
     ]
    }
   ],
   "source": [
    "aarr = [0]*2\n",
    "print(aarr)"
   ]
  },
  {
   "cell_type": "code",
   "execution_count": 12,
   "id": "3c9ef1ea",
   "metadata": {},
   "outputs": [
    {
     "data": {
      "text/plain": [
       "[3, 4, 21, 23, 56, 58, 61, 64, 84, 98, 778, 794]"
      ]
     },
     "execution_count": 12,
     "metadata": {},
     "output_type": "execute_result"
    }
   ],
   "source": [
    "#merge sort\n",
    "def merge(a1,a2,a):\n",
    "    i = 0\n",
    "    j = 0\n",
    "    k = 0\n",
    "    while i <len(a1) and j<len(a2):\n",
    "        if a1[i]>a2[j]:\n",
    "            a[k] = a2[j]\n",
    "            j += 1\n",
    "            k += 1\n",
    "        elif a1[i]<a2[j]:\n",
    "            a[k]=a1[i]\n",
    "            i += 1\n",
    "            k += 1\n",
    "    while i < len(a1):\n",
    "        a[k] = a1[i]\n",
    "        i += 1\n",
    "        k += 1\n",
    "        \n",
    "    while j< len(a2):\n",
    "        a[k] = a2[j]\n",
    "        j += 1\n",
    "        k += 1\n",
    "            \n",
    "            \n",
    "def merge_sort(arr):\n",
    "    if len(arr)<=1:\n",
    "        return\n",
    "    mi = len(arr)//2\n",
    "    arr0 = arr[:mi]\n",
    "    arr1 = arr[mi:]\n",
    "    \n",
    "    merge_sort(arr0)\n",
    "    merge_sort(arr1)\n",
    "    \n",
    "    merge(arr0,arr1,arr)\n",
    "    \n",
    "    \n",
    "arrr = [4,58,64,794,61,84,3,21,23,56,98,778]\n",
    "merge_sort(arrr)\n",
    "arrr"
   ]
  },
  {
   "cell_type": "code",
   "execution_count": 15,
   "id": "184b8eb2",
   "metadata": {},
   "outputs": [
    {
     "name": "stdout",
     "output_type": "stream",
     "text": [
      "[1, 6, 8, 8, 34, 54, 84]\n"
     ]
    }
   ],
   "source": [
    "#quick sort\n",
    "def partition(arr,lb,ub):\n",
    "    pivot = lb\n",
    "    c = 0\n",
    "    for k in range(lb,ub+1):\n",
    "        if arr[k]<arr[pivot]:\n",
    "            c += 1\n",
    "            \n",
    "    temp = arr[pivot]\n",
    "    arr[pivot] = arr[pivot + c]\n",
    "    arr[pivot + c] = temp\n",
    "    pivot += c\n",
    "    #print(pivot , arr)\n",
    "    \n",
    "    i = lb\n",
    "    j = ub\n",
    "    #print(i,j)\n",
    "    \n",
    "    while i<j:\n",
    "        if arr[pivot] > arr[i]:\n",
    "            i += 1\n",
    "        elif arr[pivot] <= arr[j]:\n",
    "            j -= 1\n",
    "        else:\n",
    "            temp = arr[i]\n",
    "            arr[i] = arr[j]\n",
    "            arr[j] = temp\n",
    "            i +=1\n",
    "            j -=1\n",
    "            \n",
    "    return pivot\n",
    "            \n",
    "def quick_sort(arr,s,e):\n",
    "    if s>=e:\n",
    "        return\n",
    "    i = partition(arr,s,e)\n",
    "    quick_sort(arr,s,i-1)\n",
    "    quick_sort(arr,i+1,e)\n",
    "    \n",
    "a = [54,34,84,8,1,6,8]\n",
    "n = len(a)\n",
    "quick_sort(a,0,n-1)\n",
    "print(a)"
   ]
  },
  {
   "cell_type": "code",
   "execution_count": 1,
   "id": "9002097c",
   "metadata": {},
   "outputs": [
    {
     "name": "stdout",
     "output_type": "stream",
     "text": [
      "a--b\n",
      "a--c\n",
      "b--c\n",
      "a--b\n",
      "c--a\n",
      "c--b\n",
      "a--b\n",
      "a--c\n",
      "b--c\n",
      "b--a\n",
      "c--a\n",
      "b--c\n",
      "a--b\n",
      "a--c\n",
      "b--c\n"
     ]
    }
   ],
   "source": [
    "#Tower of hanoi\n",
    "def towerOfHanoi(n,a,b,c):\n",
    "    if n == 1:\n",
    "        return print(a +'--'+ c)\n",
    "    towerOfHanoi(n-1,a,c,b)\n",
    "    print(a + '--'+c)\n",
    "    towerOfHanoi(n-1,b,a,c)\n",
    "    \n",
    "towerOfHanoi(4,'a','b','c')"
   ]
  },
  {
   "cell_type": "code",
   "execution_count": 6,
   "id": "0a40bc5c",
   "metadata": {},
   "outputs": [
    {
     "name": "stdout",
     "output_type": "stream",
     "text": [
      "race\n",
      "False\n"
     ]
    }
   ],
   "source": [
    "def isPalin(string,si,ei):\n",
    "    if si==ei:\n",
    "        return True\n",
    "    if string[si]!=string[ei]:\n",
    "        return False\n",
    "    if (s<e):\n",
    "        return isPalin(string,si+1,ei-1)\n",
    "    return True\n",
    "\n",
    "def checkPalin(string):\n",
    "    n = len(string)\n",
    "    if len(string) == 0:\n",
    "        return True\n",
    "    return isPalin(string,0,n-1)\n",
    "\n",
    "inp = input()\n",
    "an = checkPalin(inp)\n",
    "print(an)\n",
    "        \n",
    "    \n",
    "    "
   ]
  },
  {
   "cell_type": "code",
   "execution_count": 15,
   "id": "59840634",
   "metadata": {},
   "outputs": [
    {
     "name": "stdout",
     "output_type": "stream",
     "text": [
      "5\n"
     ]
    }
   ],
   "source": [
    "x = ord('5')\n",
    "print(x-48)"
   ]
  },
  {
   "cell_type": "code",
   "execution_count": 7,
   "id": "c7cdbbc9",
   "metadata": {},
   "outputs": [],
   "source": [
    "def countZero(n):\n",
    "    if n == 0:\n",
    "        return 0\n",
    "    smallerOutput = countZero(n//10)\n",
    "    m = n%10\n",
    "    if m == 0:\n",
    "        return smallerOutput + 1\n",
    "    else:\n",
    "        return smallerOutput\n",
    "     "
   ]
  },
  {
   "cell_type": "code",
   "execution_count": 27,
   "id": "5d5c181f",
   "metadata": {},
   "outputs": [
    {
     "name": "stdout",
     "output_type": "stream",
     "text": [
      "1234\n",
      "1234\n"
     ]
    }
   ],
   "source": [
    "def stringToInteger(string):\n",
    "    n = len(string)\n",
    "    if n == 1:\n",
    "        return ord(string[0]) - ord('0')\n",
    "    smallerOutput = stringToInteger(string[1:])\n",
    "    b = ord(string[0]) - ord('0')\n",
    "    #print(string[1:])\n",
    "    #print(b)\n",
    "    #print(smallerOutput)\n",
    "    c = b*10**(n-1)\n",
    "    #print(c)\n",
    "    return c + smallerOutput\n",
    "\n",
    "\n",
    "s = input()\n",
    "a = stringToInteger(s)\n",
    "print(a)\n",
    "    "
   ]
  },
  {
   "cell_type": "code",
   "execution_count": 30,
   "id": "f14aa10d",
   "metadata": {},
   "outputs": [
    {
     "name": "stdout",
     "output_type": "stream",
     "text": [
      "aaaa\n",
      "None\n"
     ]
    }
   ],
   "source": [
    "def pair_star(a,b,i):\n",
    "    b += a[i]\n",
    "    if i==len(a)-1:\n",
    "        return b\n",
    "    if a[i] == a[i+1]:\n",
    "        b = b +'*'\n",
    "    pair_star(a,b,i+1)\n",
    "\n",
    "a = input()\n",
    "an = pair_star(a,'',0)\n",
    "print(an)\n",
    "        \n",
    "    \n",
    "    "
   ]
  },
  {
   "cell_type": "code",
   "execution_count": 37,
   "id": "e37aa840",
   "metadata": {},
   "outputs": [
    {
     "name": "stdout",
     "output_type": "stream",
     "text": [
      "abb\n",
      "true\n"
     ]
    }
   ],
   "source": [
    "def checkAB(a):\n",
    "    if len(a) == 0:\n",
    "        return True\n",
    "    if a[0]=='a':\n",
    "        if len(a[1:])>1 and a[1:3] == 'bb':\n",
    "            return checkAB(a[3:])\n",
    "        else:\n",
    "            return checkAB(a[1:])\n",
    "    else:\n",
    "        return False\n",
    "    \n",
    "x = input()\n",
    "an = checkAB(x)\n",
    "if checkAB(x):\n",
    "    print('true')\n",
    "else:\n",
    "    print('false')"
   ]
  },
  {
   "cell_type": "code",
   "execution_count": 46,
   "id": "7fc6c295",
   "metadata": {},
   "outputs": [
    {
     "ename": "KeyboardInterrupt",
     "evalue": "Interrupted by user",
     "output_type": "error",
     "traceback": [
      "\u001b[1;31m---------------------------------------------------------------------------\u001b[0m",
      "\u001b[1;31mKeyboardInterrupt\u001b[0m                         Traceback (most recent call last)",
      "\u001b[1;32m~\\AppData\\Local\\Temp\\ipykernel_2788\\2424159566.py\u001b[0m in \u001b[0;36m<module>\u001b[1;34m\u001b[0m\n\u001b[0;32m      9\u001b[0m     \u001b[1;32mreturn\u001b[0m \u001b[0mx\u001b[0m\u001b[1;33m+\u001b[0m\u001b[0my\u001b[0m\u001b[1;33m+\u001b[0m\u001b[0mz\u001b[0m\u001b[1;33m\u001b[0m\u001b[1;33m\u001b[0m\u001b[0m\n\u001b[0;32m     10\u001b[0m \u001b[1;33m\u001b[0m\u001b[0m\n\u001b[1;32m---> 11\u001b[1;33m \u001b[0mnp\u001b[0m \u001b[1;33m=\u001b[0m \u001b[0mint\u001b[0m\u001b[1;33m(\u001b[0m\u001b[0minput\u001b[0m\u001b[1;33m(\u001b[0m\u001b[1;33m)\u001b[0m\u001b[1;33m)\u001b[0m\u001b[1;33m\u001b[0m\u001b[1;33m\u001b[0m\u001b[0m\n\u001b[0m\u001b[0;32m     12\u001b[0m \u001b[0man\u001b[0m \u001b[1;33m=\u001b[0m \u001b[0mstaircase\u001b[0m\u001b[1;33m(\u001b[0m\u001b[0mnp\u001b[0m\u001b[1;33m)\u001b[0m\u001b[1;33m\u001b[0m\u001b[1;33m\u001b[0m\u001b[0m\n\u001b[0;32m     13\u001b[0m \u001b[0mprint\u001b[0m\u001b[1;33m(\u001b[0m\u001b[0man\u001b[0m\u001b[1;33m)\u001b[0m\u001b[1;33m\u001b[0m\u001b[1;33m\u001b[0m\u001b[0m\n",
      "\u001b[1;32m~\\anaconda3\\lib\\site-packages\\ipykernel\\kernelbase.py\u001b[0m in \u001b[0;36mraw_input\u001b[1;34m(self, prompt)\u001b[0m\n\u001b[0;32m   1175\u001b[0m                 \u001b[1;34m\"raw_input was called, but this frontend does not support input requests.\"\u001b[0m\u001b[1;33m\u001b[0m\u001b[1;33m\u001b[0m\u001b[0m\n\u001b[0;32m   1176\u001b[0m             )\n\u001b[1;32m-> 1177\u001b[1;33m         return self._input_request(\n\u001b[0m\u001b[0;32m   1178\u001b[0m             \u001b[0mstr\u001b[0m\u001b[1;33m(\u001b[0m\u001b[0mprompt\u001b[0m\u001b[1;33m)\u001b[0m\u001b[1;33m,\u001b[0m\u001b[1;33m\u001b[0m\u001b[1;33m\u001b[0m\u001b[0m\n\u001b[0;32m   1179\u001b[0m             \u001b[0mself\u001b[0m\u001b[1;33m.\u001b[0m\u001b[0m_parent_ident\u001b[0m\u001b[1;33m[\u001b[0m\u001b[1;34m\"shell\"\u001b[0m\u001b[1;33m]\u001b[0m\u001b[1;33m,\u001b[0m\u001b[1;33m\u001b[0m\u001b[1;33m\u001b[0m\u001b[0m\n",
      "\u001b[1;32m~\\anaconda3\\lib\\site-packages\\ipykernel\\kernelbase.py\u001b[0m in \u001b[0;36m_input_request\u001b[1;34m(self, prompt, ident, parent, password)\u001b[0m\n\u001b[0;32m   1217\u001b[0m             \u001b[1;32mexcept\u001b[0m \u001b[0mKeyboardInterrupt\u001b[0m\u001b[1;33m:\u001b[0m\u001b[1;33m\u001b[0m\u001b[1;33m\u001b[0m\u001b[0m\n\u001b[0;32m   1218\u001b[0m                 \u001b[1;31m# re-raise KeyboardInterrupt, to truncate traceback\u001b[0m\u001b[1;33m\u001b[0m\u001b[1;33m\u001b[0m\u001b[0m\n\u001b[1;32m-> 1219\u001b[1;33m                 \u001b[1;32mraise\u001b[0m \u001b[0mKeyboardInterrupt\u001b[0m\u001b[1;33m(\u001b[0m\u001b[1;34m\"Interrupted by user\"\u001b[0m\u001b[1;33m)\u001b[0m \u001b[1;32mfrom\u001b[0m \u001b[1;32mNone\u001b[0m\u001b[1;33m\u001b[0m\u001b[1;33m\u001b[0m\u001b[0m\n\u001b[0m\u001b[0;32m   1220\u001b[0m             \u001b[1;32mexcept\u001b[0m \u001b[0mException\u001b[0m\u001b[1;33m:\u001b[0m\u001b[1;33m\u001b[0m\u001b[1;33m\u001b[0m\u001b[0m\n\u001b[0;32m   1221\u001b[0m                 \u001b[0mself\u001b[0m\u001b[1;33m.\u001b[0m\u001b[0mlog\u001b[0m\u001b[1;33m.\u001b[0m\u001b[0mwarning\u001b[0m\u001b[1;33m(\u001b[0m\u001b[1;34m\"Invalid Message:\"\u001b[0m\u001b[1;33m,\u001b[0m \u001b[0mexc_info\u001b[0m\u001b[1;33m=\u001b[0m\u001b[1;32mTrue\u001b[0m\u001b[1;33m)\u001b[0m\u001b[1;33m\u001b[0m\u001b[1;33m\u001b[0m\u001b[0m\n",
      "\u001b[1;31mKeyboardInterrupt\u001b[0m: Interrupted by user"
     ]
    }
   ],
   "source": [
    "def staircase(n):\n",
    "    if n==0:\n",
    "        return 1\n",
    "    if n < 0:\n",
    "        return 0\n",
    "    x = staircase(n-1)\n",
    "    y = staircase(n-2)\n",
    "    z = staircase(n-3)\n",
    "    return x+y+z\n",
    "\n",
    "np = int(input())\n",
    "an = staircase(np)\n",
    "print(an)"
   ]
  },
  {
   "cell_type": "code",
   "execution_count": null,
   "id": "35f5b05d",
   "metadata": {},
   "outputs": [],
   "source": [
    "class Solution:\n",
    "    def merge_sort(self, nums):\n",
    "        if len(nums) <= 1:\n",
    "            return nums\n",
    "        mid = len(nums) // 2\n",
    "        left = self.merge_sort(nums[:mid])\n",
    "        right = self.merge_sort(nums[mid:])\n",
    "        return self.merge(left, right)\n",
    "\n",
    "    def merge(self, left, right):\n",
    "        i = j = 0\n",
    "        merged = []\n",
    "        while i < len(left) and j < len(right):\n",
    "            if left[i] <= right[j]:\n",
    "                merged.append(left[i])\n",
    "                i += 1\n",
    "            else:\n",
    "                merged.append(right[j])\n",
    "                j += 1\n",
    "        merged += left[i:]\n",
    "        merged += right[j:]\n",
    "        return merged\n",
    "\n",
    "    def sortArray(self, nums):"
   ]
  }
 ],
 "metadata": {
  "kernelspec": {
   "display_name": "Python 3 (ipykernel)",
   "language": "python",
   "name": "python3"
  },
  "language_info": {
   "codemirror_mode": {
    "name": "ipython",
    "version": 3
   },
   "file_extension": ".py",
   "mimetype": "text/x-python",
   "name": "python",
   "nbconvert_exporter": "python",
   "pygments_lexer": "ipython3",
   "version": "3.9.13"
  }
 },
 "nbformat": 4,
 "nbformat_minor": 5
}
