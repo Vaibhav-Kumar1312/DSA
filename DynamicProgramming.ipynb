{
 "cells": [
  {
   "cell_type": "code",
   "execution_count": 5,
   "id": "878a6a2d",
   "metadata": {},
   "outputs": [
    {
     "name": "stdout",
     "output_type": "stream",
     "text": [
      "9\n",
      "34\n"
     ]
    }
   ],
   "source": [
    "def fibbDP(n):\n",
    "    if n == 0 or n == 1:\n",
    "        return n\n",
    "    if dp[n-1] == -1:\n",
    "        ans1 = fibbDP(n-1)\n",
    "        dp[n-1] = ans1\n",
    "    else:\n",
    "        ans1 = dp[n-1]\n",
    "    if dp[n-2] == -1:\n",
    "        ans2 = fibbDP(n-2)\n",
    "        dp[n-2] = ans2\n",
    "    else:\n",
    "        ans2 = dp[n-2]\n",
    "    return ans1+ans2\n",
    "\n",
    "def fibbI(n):\n",
    "    dp = [0 for i in range(n+1)]\n",
    "    dp[0] = 0\n",
    "    dp[1] = 1\n",
    "    i = 2\n",
    "    while i<=n:\n",
    "        dp[i] = dp[i-1]+dp[i-2]\n",
    "        i += 1\n",
    "    return dp[n]\n",
    "\n",
    "n = int(input())\n",
    "# dp = [-1 for x in range(n+1)]\n",
    "# ans = fibbDP(n)\n",
    "ans = fibbI(9)\n",
    "print(ans)"
   ]
  },
  {
   "cell_type": "code",
   "execution_count": 7,
   "id": "5e80df76",
   "metadata": {},
   "outputs": [
    {
     "ename": "SyntaxError",
     "evalue": "invalid syntax (4219866325.py, line 11)",
     "output_type": "error",
     "traceback": [
      "\u001b[1;36m  File \u001b[1;32m\"C:\\Users\\raman\\AppData\\Local\\Temp\\ipykernel_9884\\4219866325.py\"\u001b[1;36m, line \u001b[1;32m11\u001b[0m\n\u001b[1;33m    elif n%3==0:\u001b[0m\n\u001b[1;37m    ^\u001b[0m\n\u001b[1;31mSyntaxError\u001b[0m\u001b[1;31m:\u001b[0m invalid syntax\n"
     ]
    }
   ],
   "source": [
    "import sys\n",
    "def minStepsTo1(n,dp):\n",
    "    if n==1:\n",
    "        return 0\n",
    "    ans1=sys.maxsize\n",
    "    if n% 3==0:\n",
    "        if dp[n//3]==-1:\n",
    "            ans1=minStepsTo1(n//3,dp)\n",
    "            dp[n//3]=ans1\n",
    "        else:\n",
    "            ans1=dp[n//3]\n",
    "    ans2=sys.maxsize\n",
    "    \n",
    "    if n%2==0:\n",
    "        if dp[n//2]==-1:\n",
    "            ans2=minStepsTo1(n//2,dp)\n",
    "            dp[n//2]=ans2\n",
    "        else:\n",
    "            ans2=dp[n//2]\n",
    "    if dp[n-1]==-1:\n",
    "        ans3=minStepsTo1(n-1,dp)\n",
    "        dp[n-1]=ans3\n",
    "    else:\n",
    "        ans3=dp[n-1]\n",
    "        \n",
    "    \n",
    "    \n",
    "    ans=1+min(ans1,ans2,ans3)\n",
    "    return ans\n",
    "n=int(input())\n",
    "dp=[-1 for i in range(n+1)]\n",
    "ans=minStepsTo1(n,dp)\n",
    "print(ans)"
   ]
  },
  {
   "cell_type": "code",
   "execution_count": 25,
   "id": "1571cf8f",
   "metadata": {},
   "outputs": [
    {
     "name": "stdout",
     "output_type": "stream",
     "text": [
      "['da']\n"
     ]
    }
   ],
   "source": [
    "a = [\"c\"]\n",
    "b = \"dab\"\n",
    "print([b[:2]])"
   ]
  },
  {
   "cell_type": "code",
   "execution_count": null,
   "id": "df102471",
   "metadata": {},
   "outputs": [],
   "source": [
    "def LIS(arr):\n",
    "    if len(arr) == 0:\n",
    "        return 0\n",
    "    "
   ]
  },
  {
   "cell_type": "code",
   "execution_count": 26,
   "id": "5ae3a459",
   "metadata": {},
   "outputs": [
    {
     "name": "stdout",
     "output_type": "stream",
     "text": [
      "18\n"
     ]
    }
   ],
   "source": [
    "import sys\n",
    "def minCost(cost,i,j,n,m):\n",
    "    #Special Case\n",
    "    if i==n-1 and j==m-1:\n",
    "        return cost[i][j]\n",
    "    #Base case\n",
    "    if i>=n or j>=m:\n",
    "        return sys.maxsize\n",
    "    \n",
    "    ans1=minCost(cost,i,j+1,n,m)\n",
    "    ans2=minCost(cost,i+1,j,n,m)\n",
    "    ans3=minCost(cost,i+1,j+1,n,m)\n",
    "    \n",
    "    ans=cost[i][j]+min(ans1,ans2,ans3)\n",
    "    return ans\n",
    "\n",
    "def minCostMem(cost,i,j,n,m,dp):\n",
    "    if i\n",
    "    \n",
    "def minCostIterative(cost,n,m):\n",
    "    \n",
    "    dp=[[sys.maxsize for j in range(m+1)]for i in range(n+1)]\n",
    "    for i in range(n-1,-1,-1):\n",
    "        for j in range(m-1,-1,-1):\n",
    "            if i==n-1 and j==m-1:\n",
    "                dp[i][j]=cost[i][j]\n",
    "            else:\n",
    "                ans1=dp[i+1][j]\n",
    "                ans2=dp[i][j+1]\n",
    "                ans3=dp[i+1][j+1]\n",
    "                dp[i][j]=cost[i][j]+min(ans1,ans2,ans3)\n",
    "    return dp[0][0]    \n",
    "\n",
    "\n",
    "cost=[[5,7,2,4],[1,8,1,3],[6,2,9,5],[1,6,2,8]]\n",
    "ans=minCost(cost,0,0,4,4)\n",
    "print(ans)"
   ]
  },
  {
   "cell_type": "code",
   "execution_count": null,
   "id": "7b72fd79",
   "metadata": {},
   "outputs": [],
   "source": [
    "def lcs(str1,str2,i,j,dp):\n",
    "    if i==len(str1) or j==len(str2):\n",
    "        return 0\n",
    "    if str1[i]==str2[j\n",
    "                     \n",
    "        if dp[i+1][j]==-1:\n",
    "            ans1=lcs(str1,str2,i+1,j,dp)\n",
    "            dp[i+1][j]=ans1\n",
    "        else:\n",
    "            ans1=dp[i+1][j]\n",
    "            \n",
    "        if dp[i][j+1]==-1:\n",
    "            ans2=lcs(str1,str2,i,j+1,dp)\n",
    "            dp[i][j+1]=ans2\n",
    "        else:\n",
    "            ans2=dp[i][j+1]\n",
    "        ans=max(ans1,ans2)\n",
    "    return ans\n",
    "                     \n",
    "                     \n",
    "str1=\"abedgjc\"\n",
    "str2=\"bmdgsc\"\n",
    "n=len(str1)\n",
    "m=len(str2)\n",
    "dp=[[-1 for j in range(m+1)]for i in range(n+1)]\n",
    "ans=lcs(str1,str2,0,0,dp)\n",
    "print(ans)"
   ]
  },
  {
   "cell_type": "code",
   "execution_count": 1,
   "id": "7c968502",
   "metadata": {},
   "outputs": [
    {
     "data": {
      "text/plain": [
       "13"
      ]
     },
     "execution_count": 1,
     "metadata": {},
     "output_type": "execute_result"
    }
   ],
   "source": [
    "def knapsack(W,val,wt,n,mat):\n",
    "    if n == 0 or wt == 0:\n",
    "#         print(wt,n)\n",
    "        return 0\n",
    "    if mat[wt][n] != -1:\n",
    "        return mat[wt][n]\n",
    "    if W[n-1] > wt:\n",
    "        r1 = knapsack(W,val,wt,n-1,mat)\n",
    "        mat[wt][n] = r1\n",
    "        return r1\n",
    "    else:\n",
    "#         print(wt,n)\n",
    "        r2 = val[n-1] + knapsack(W,val,wt-W[n-1],n-1,mat)\n",
    "        r3 = knapsack(W,val,wt,n-1,mat)\n",
    "        mat[wt][n] = max(r2,r3)\n",
    "        return max(r2,r3)\n",
    "    \n",
    "    \n",
    "mat = [[-1 for j in range(7)] for i in range(6)]\n",
    "knapsack([1,2,4,5],[5,4,8,6],5,4,mat)\n",
    "    "
   ]
  },
  {
   "cell_type": "code",
   "execution_count": 2,
   "id": "ba12b164",
   "metadata": {},
   "outputs": [
    {
     "data": {
      "text/plain": [
       "13"
      ]
     },
     "execution_count": 2,
     "metadata": {},
     "output_type": "execute_result"
    }
   ],
   "source": [
    "def knapSackIt(W,val,wt,n):\n",
    "    dp = [[-1 for i in range(wt+1)] for j in range(n+1)]\n",
    "    for i in range(n+1):\n",
    "        for j in range(wt+1):\n",
    "            if i == 0 or j == 0:\n",
    "                dp[i][j] = 0\n",
    "            else:\n",
    "                dp[i][j] = -1\n",
    "    for i in range(1,n+1):\n",
    "        for j in range(1,wt+1):\n",
    "            if W[i-1] > j:\n",
    "                dp[i][j] =  dp[i-1][j]\n",
    "            else:\n",
    "                r1 = val[i-1]+dp[i-1][j-W[i-1]]\n",
    "                r2 = dp[i-1][j]\n",
    "                dp[i][j] =  max(r1,r2)\n",
    "                \n",
    "    return dp[n][wt]\n",
    "    \n",
    "    \n",
    "\n",
    "    \n",
    "knapSackIt([1,2,4,5],[5,4,8,6],5,4)\n",
    "                "
   ]
  },
  {
   "cell_type": "code",
   "execution_count": 12,
   "id": "8790bebe",
   "metadata": {},
   "outputs": [
    {
     "name": "stdout",
     "output_type": "stream",
     "text": [
      "True False False False False False \n",
      "True False True False False False \n",
      "True False True True False True \n",
      "True False True True False True \n"
     ]
    },
    {
     "data": {
      "text/plain": [
       "True"
      ]
     },
     "execution_count": 12,
     "metadata": {},
     "output_type": "execute_result"
    }
   ],
   "source": [
    "def subsetSum(arr,k,n):\n",
    "    dp = [[False for j in range(k+1)] for i in range(n+1)]\n",
    "    for i in range(n+1):\n",
    "        for j in range(k+1):\n",
    "            if j==0:\n",
    "                dp[i][j]=True\n",
    "                \n",
    "    for i in range(1,n+1):\n",
    "        for j in range(1,k+1):\n",
    "            if arr[i-1] <= j:\n",
    "                dp[i][j] = dp[i-1][j-arr[i-1]] or dp[i-1][j]\n",
    "            else:\n",
    "                dp[i][j] = dp[i-1][j]\n",
    "    for i in range(n+1):\n",
    "        for j in range(k+1):\n",
    "            print(dp[i][j],end=\" \")\n",
    "        print()\n",
    "    \n",
    "    return dp[n][k]\n",
    "    \n",
    "    \n",
    "\n",
    "    \n",
    "subsetSum([2,3,8],5,3)"
   ]
  },
  {
   "cell_type": "code",
   "execution_count": 1,
   "id": "af6aa483",
   "metadata": {},
   "outputs": [
    {
     "name": "stdout",
     "output_type": "stream",
     "text": [
      "110\n"
     ]
    }
   ],
   "source": [
    "def unboundedKS(wt,val,W,n):\n",
    "    if  W==0 or n==0:\n",
    "        return 0\n",
    "    if wt[n-1] > W:\n",
    "        r1 = unboundedKS(wt,val,W,n-1)\n",
    "        return r1\n",
    "    else:\n",
    "        r1 = val[n-1] + unboundedKS(wt,val,W-wt[n-1],n)\n",
    "        r2 = unboundedKS(wt,val,W,n-1)\n",
    "        return max(r1,r2)\n",
    "    \n",
    "ans = unboundedKS([1,3,4,5],[10,40,50,70],8,4)\n",
    "print(ans)"
   ]
  },
  {
   "cell_type": "code",
   "execution_count": 8,
   "id": "08ff3834",
   "metadata": {},
   "outputs": [
    {
     "name": "stdout",
     "output_type": "stream",
     "text": [
      "0\n"
     ]
    }
   ],
   "source": [
    "print(256&255)"
   ]
  }
 ],
 "metadata": {
  "kernelspec": {
   "display_name": "Python 3 (ipykernel)",
   "language": "python",
   "name": "python3"
  },
  "language_info": {
   "codemirror_mode": {
    "name": "ipython",
    "version": 3
   },
   "file_extension": ".py",
   "mimetype": "text/x-python",
   "name": "python",
   "nbconvert_exporter": "python",
   "pygments_lexer": "ipython3",
   "version": "3.9.13"
  }
 },
 "nbformat": 4,
 "nbformat_minor": 5
}
