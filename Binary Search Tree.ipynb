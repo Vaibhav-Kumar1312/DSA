{
 "cells": [
  {
   "cell_type": "code",
   "execution_count": 1,
   "id": "1813f18d",
   "metadata": {},
   "outputs": [],
   "source": [
    "def constructBST(lst):\n",
    "   \n",
    "    n = len(lst)\n",
    "    if n == 0:\n",
    "        return\n",
    "    if n%2==0:\n",
    "        m = n//2 - 1\n",
    "    else:\n",
    "        m=n//2\n",
    "    root = BinaryTreeNode(lst[m])\n",
    "    left = constructBST(lst[0:m])\n",
    "    right = constructBST(lst[m+1:])\n",
    "    root.left = left\n",
    "    root.right = right\n",
    "    return root"
   ]
  },
  {
   "cell_type": "code",
   "execution_count": 2,
   "id": "de4af260",
   "metadata": {},
   "outputs": [],
   "source": [
    "def maxTree(root):\n",
    "    if root == None:\n",
    "        return -100000\n",
    "    leftMax = maxTree(root.left)\n",
    "    rightMax = maxTree(root.right)\n",
    "    return max(leftMax,rightMax,root.data)\n"
   ]
  },
  {
   "cell_type": "code",
   "execution_count": null,
   "id": "66d529d8",
   "metadata": {},
   "outputs": [],
   "source": [
    "def minTree(root):\n",
    "    if root == None:\n",
    "        return 100000\n",
    "    leftMin = minTree(root.left)\n",
    "    rightMin = minTree(root.right)\n",
    "    return min(leftMin,rightMin,root.data)"
   ]
  },
  {
   "cell_type": "code",
   "execution_count": null,
   "id": "960237d0",
   "metadata": {},
   "outputs": [],
   "source": [
    "def isBST(root):\n",
    "    if root == None:\n",
    "        return True\n",
    "    leftMax = maxTree(root.left)\n",
    "    rightMin = minTree(root.right)\n",
    "    if root.data <= leftMax or root.data > rightMin:\n",
    "        return False\n",
    "    left = isBST(root.left)\n",
    "    right = isBST(root.right)\n",
    "    return left and right"
   ]
  },
  {
   "cell_type": "code",
   "execution_count": null,
   "id": "193735bf",
   "metadata": {},
   "outputs": [],
   "source": [
    "def isBST2(root):\n",
    "    if root==None:\n",
    "        return 100000,-100000,True\n",
    "    leftMin,leftMax,isLeftBST=isBST2(root.left)\n",
    "    rightMin,rightMax,isRightBST=isBST2(root.right)\n",
    "    \n",
    "    minimum=min(leftMin,rightMin,root.data)\n",
    "    maximum=max(leftMax,rightMax,root.data)\n",
    "    isTreeBST=True\n",
    "    if root.data<=leftMax or root.data>rightMin:\n",
    "        isTreeBST=False\n",
    "    if not(isLeftBST) or not(isRightBST):\n",
    "        isTreeBST=False\n",
    "        \n",
    "    return minimum,maximum,isTreeBST"
   ]
  },
  {
   "cell_type": "code",
   "execution_count": null,
   "id": "2dd2f1d7",
   "metadata": {},
   "outputs": [],
   "source": [
    "def isBST3(root,min_range,max_range):\n",
    "    if root==None:\n",
    "        return True\n",
    "    if root.data<min_range or root.data>max_range:\n",
    "        return False\n",
    "    \n",
    "    isLeftWithinConstraints=isBST3(root.left,min_range,root.data-1)\n",
    "    isRightWithinConstraints=isBST3(root.right,root.data,max_range)\n",
    "    \n",
    "    return isLeftWithinConstraints and isRightWithinConstraints\n"
   ]
  },
  {
   "cell_type": "code",
   "execution_count": null,
   "id": "6c151f75",
   "metadata": {},
   "outputs": [],
   "source": [
    "def printNodeToRootPath(root,s):\n",
    "    if root == None:\n",
    "        return None\n",
    "    if root.data == s:\n",
    "        l = list()\n",
    "        l.append(root.data)\n",
    "        return l\n",
    "    \n",
    "    left = printNodeToRootPath(root.left)\n",
    "    if left != None:\n",
    "        left.append(root.data)\n",
    "        return left\n",
    "    right = printNodeToRootPath(root.right)\n",
    "    if right == None:\n",
    "        right.append(root.data)\n",
    "        return right\n",
    "    else:\n",
    "        return None"
   ]
  }
 ],
 "metadata": {
  "kernelspec": {
   "display_name": "Python 3 (ipykernel)",
   "language": "python",
   "name": "python3"
  },
  "language_info": {
   "codemirror_mode": {
    "name": "ipython",
    "version": 3
   },
   "file_extension": ".py",
   "mimetype": "text/x-python",
   "name": "python",
   "nbconvert_exporter": "python",
   "pygments_lexer": "ipython3",
   "version": "3.9.13"
  }
 },
 "nbformat": 4,
 "nbformat_minor": 5
}
