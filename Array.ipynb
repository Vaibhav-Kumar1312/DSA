{
 "cells": [
  {
   "cell_type": "code",
   "execution_count": null,
   "id": "32558849",
   "metadata": {},
   "outputs": [],
   "source": [
    "def func(arr):\n",
    "    counter = 1\n",
    "    for i in range(len(arr)):\n",
    "        if arr[i] > 0:\n",
    "            if arr[i] == counter:\n",
    "                counter += 1"
   ]
  },
  {
   "cell_type": "code",
   "execution_count": 1,
   "id": "9e0c4a5b",
   "metadata": {},
   "outputs": [
    {
     "name": "stdout",
     "output_type": "stream",
     "text": [
      "6\n"
     ]
    }
   ],
   "source": [
    "n = int(input())"
   ]
  },
  {
   "cell_type": "code",
   "execution_count": 8,
   "id": "b020d1b1",
   "metadata": {},
   "outputs": [
    {
     "name": "stdout",
     "output_type": "stream",
     "text": [
      "1 2 3 4\n",
      "4\n"
     ]
    }
   ],
   "source": [
    "li = [int(x) for x in input().split()]\n",
    "print(len(li))"
   ]
  },
  {
   "cell_type": "code",
   "execution_count": 6,
   "id": "282aa3d0",
   "metadata": {},
   "outputs": [
    {
     "name": "stdout",
     "output_type": "stream",
     "text": [
      "-1\n"
     ]
    }
   ],
   "source": [
    "def linear_search(li , ele):\n",
    "    for i in range(len(li)):\n",
    "        if li[i]==ele:\n",
    "            return i\n",
    "    return -1\n",
    "\n",
    "index = linear_search(li , 7)\n",
    "print(index)"
   ]
  },
  {
   "cell_type": "markdown",
   "id": "8841c6e1",
   "metadata": {},
   "source": [
    "sort 0 1"
   ]
  },
  {
   "cell_type": "code",
   "execution_count": 26,
   "id": "13ad0976",
   "metadata": {},
   "outputs": [
    {
     "data": {
      "text/plain": [
       "[0, 0, 0, 0, 0, 1, 1, 1, 1]"
      ]
     },
     "execution_count": 26,
     "metadata": {},
     "output_type": "execute_result"
    }
   ],
   "source": [
    "def sort(a , n):\n",
    "    j =-1\n",
    "    for i in range(n):\n",
    "        if a[i]<1:\n",
    "            j = j+1\n",
    "            a[i],a[j] = a[j],a[i]\n",
    "    \n",
    "    return a\n",
    "\n",
    "arr = [1,0,0,1,1,0,0,0,1]\n",
    "sort(arr,9)"
   ]
  },
  {
   "cell_type": "code",
   "execution_count": 30,
   "id": "ec660c93",
   "metadata": {},
   "outputs": [
    {
     "data": {
      "text/plain": [
       "[1, 1, 0, 0, 0, 0, 0, 1, 1]"
      ]
     },
     "execution_count": 30,
     "metadata": {},
     "output_type": "execute_result"
    }
   ],
   "source": [
    "def sort(arr ,n):\n",
    "    a = 0\n",
    "    b = -1\n",
    "    while a<n:\n",
    "        if arr[a] ==0:\n",
    "            b = b+1\n",
    "            arr[a],arr[b]=arr[b],arr[a]\n",
    "        a = a+1\n",
    "    return arr\n",
    "        \n",
    "arr = [1,0,0,1,1,0,0,0,1]\n",
    "sort(arr,9)"
   ]
  },
  {
   "cell_type": "markdown",
   "id": "c90b7173",
   "metadata": {},
   "source": [
    "selection sort"
   ]
  },
  {
   "cell_type": "code",
   "execution_count": 88,
   "id": "5bbdc34e",
   "metadata": {},
   "outputs": [
    {
     "name": "stdout",
     "output_type": "stream",
     "text": [
      "[2, 13, 21, 54, 63, 65, 88, 89]\n"
     ]
    }
   ],
   "source": [
    "def orrt(arr):\n",
    "    for i in range(len(arr)):\n",
    "        min = i\n",
    "        for j in range(i+1,len(arr)):\n",
    "            if arr[min] > arr[j]:\n",
    "                min = j\n",
    "        arr[i],arr[min] = arr[min],arr[i]\n",
    "    print(arr)\n",
    "\n",
    "orrt([54,65,89,21,88,63,13,2])"
   ]
  },
  {
   "cell_type": "markdown",
   "id": "e72a7f1c",
   "metadata": {},
   "source": [
    "Insertion sort"
   ]
  },
  {
   "cell_type": "code",
   "execution_count": 123,
   "id": "cbbde846",
   "metadata": {},
   "outputs": [
    {
     "name": "stdout",
     "output_type": "stream",
     "text": [
      "[1, 3, 5, 8]\n"
     ]
    }
   ],
   "source": [
    "def in_ort(arr,n):\n",
    "    for i in range(1,n):\n",
    "        temp = arr[i]\n",
    "        j = i-1\n",
    "        while (j>=0 and temp < arr[j]):\n",
    "            arr[j+1],arr[j]=arr[j],arr[j+1]\n",
    "            j = j-1\n",
    "        arr[j+1] = temp\n",
    "    print(arr)\n",
    "    \n",
    "in_ort([8,5,3,1],4)"
   ]
  },
  {
   "cell_type": "markdown",
   "id": "3a46ece0",
   "metadata": {},
   "source": [
    "Merge two sorte array"
   ]
  },
  {
   "cell_type": "code",
   "execution_count": 140,
   "id": "bbfe21b7",
   "metadata": {},
   "outputs": [
    {
     "name": "stdout",
     "output_type": "stream",
     "text": [
      "[2, 2, 3, 3, 4, 4, 5, 5, 6, 6, 7, 7]\n"
     ]
    }
   ],
   "source": [
    "def merged(a1,a2):\n",
    "    i,j = 0,0\n",
    "    a3 = []\n",
    "    while (i < len(a1) and j < len(a2)):\n",
    "        if a1[i]<a2[j]:\n",
    "            a3.append(a1[i])\n",
    "            i = i+1\n",
    "        else:\n",
    "            a3.append(a2[j])\n",
    "            j = j+1\n",
    "    while i<len(a1):\n",
    "        a3.append(a1[i])\n",
    "        i =i+1\n",
    "    while j<len(a2):\n",
    "        a3.append(a2[j])\n",
    "        j=j+1\n",
    "    print(a3)\n",
    "\n",
    "merged([2,3,4,5,6,7],[2,3,4,5,6,7])\n",
    "                "
   ]
  },
  {
   "cell_type": "code",
   "execution_count": 149,
   "id": "eb78dc06",
   "metadata": {},
   "outputs": [
    {
     "name": "stdout",
     "output_type": "stream",
     "text": [
      "[2, 5, 5, 6, 8, 0, 0]\n"
     ]
    }
   ],
   "source": [
    "def ortZeroAnOne(arr):\n",
    "    nxtZero = 0\n",
    "    for i in range(len(arr)):\n",
    "        if arr[i] == 0:\n",
    "            temp = arr[nxtZero]\n",
    "            arr[nxtZero] = arr[i]\n",
    "            arr[i] = temp\n",
    "            nxtZero += 1\n",
    "    print(arr)\n",
    "\n",
    "ortZeroAnOne([1,1,0,1,0,1,1])\n",
    "            "
   ]
  },
  {
   "cell_type": "markdown",
   "id": "80bfd15b",
   "metadata": {},
   "source": [
    "Push zeros to end"
   ]
  },
  {
   "cell_type": "code",
   "execution_count": 150,
   "id": "19f32d13",
   "metadata": {},
   "outputs": [
    {
     "name": "stdout",
     "output_type": "stream",
     "text": [
      "[2, 1, 3, 5, 6, 8, 0, 0, 0, 0]\n"
     ]
    }
   ],
   "source": [
    "def zero_in_end(arr):\n",
    "    nxtZero = 0\n",
    "    for i in range(len(arr)):\n",
    "        if arr[i] > 0:\n",
    "            temp = arr[nxtZero]\n",
    "            arr[nxtZero] = arr[i]\n",
    "            arr[i] = temp\n",
    "            nxtZero += 1\n",
    "    print(arr)    \n",
    "    \n",
    "zero_in_end([2,1,3,0,0,0,5,6,0,8])"
   ]
  },
  {
   "cell_type": "markdown",
   "id": "88fd81a1",
   "metadata": {},
   "source": [
    "rotate array"
   ]
  },
  {
   "cell_type": "code",
   "execution_count": 196,
   "id": "dceb6be9",
   "metadata": {},
   "outputs": [
    {
     "name": "stdout",
     "output_type": "stream",
     "text": [
      "[1, 2]\n",
      "[3, 4, 5, 6, 5, 6]\n",
      "[3, 4, 5, 6, 1, 2]\n"
     ]
    }
   ],
   "source": [
    "def rotate(arr,n,r):\n",
    "    temp = []\n",
    "    for i in range(0,r):\n",
    "        temp.append(arr[i])\n",
    "    print(temp)\n",
    "    for j in range(0,n-r):\n",
    "        arr[j] = arr[j+r]\n",
    "    print(arr)\n",
    "    for k in range(len(temp)):\n",
    "        arr[n-r+k] = temp[k]\n",
    "    print(arr)\n",
    "    \n",
    "ar = [1,2,3,4,5,6]\n",
    "rotate(ar,len(ar),2)"
   ]
  },
  {
   "cell_type": "markdown",
   "id": "3ec2f6d6",
   "metadata": {},
   "source": [
    "rotate array by reversing array"
   ]
  },
  {
   "cell_type": "code",
   "execution_count": null,
   "id": "2b7943fb",
   "metadata": {},
   "outputs": [],
   "source": []
  },
  {
   "cell_type": "markdown",
   "id": "0e535e26",
   "metadata": {},
   "source": [
    "second largest element"
   ]
  },
  {
   "cell_type": "code",
   "execution_count": 174,
   "id": "4a5e2129",
   "metadata": {},
   "outputs": [
    {
     "name": "stdout",
     "output_type": "stream",
     "text": [
      "-2147483648\n"
     ]
    }
   ],
   "source": [
    "def max(arr):\n",
    "    a = 0\n",
    "    b = 0\n",
    "    c = -2147483648\n",
    "    arr.sort()\n",
    "    for i in range(len(arr)-1,-1,-1 ):\n",
    "        if (arr[i]>arr[i-1]):\n",
    "            print(arr[i-1])\n",
    "            break\n",
    "    else:\n",
    "        print(c)\n",
    "            \n",
    "        \n",
    "    \n",
    "max([9,9,9,9,9])"
   ]
  },
  {
   "cell_type": "code",
   "execution_count": 189,
   "id": "b685ca81",
   "metadata": {},
   "outputs": [
    {
     "name": "stdout",
     "output_type": "stream",
     "text": [
      "a 5\n",
      "b 2\n",
      "a 7\n",
      "a 9\n",
      "b 8\n",
      "9 8\n"
     ]
    }
   ],
   "source": [
    "def max(arr,n):\n",
    "    a= 0\n",
    "    b = 0\n",
    "    c= -2147483648\n",
    "    for i in range(n):\n",
    "        if (arr[i] > a):\n",
    "            b = a\n",
    "            a = arr[i]\n",
    "            print(\"a\",a)\n",
    "        elif (arr[i]>b and arr[i] != a):\n",
    "            b = arr[i]\n",
    "            print(\"b\",b)\n",
    "    print(a,b)\n",
    "            \n",
    "max([5,2,7,9,8,1,9],7)"
   ]
  },
  {
   "cell_type": "markdown",
   "id": "2c046edd",
   "metadata": {},
   "source": [
    "CheckRotation"
   ]
  },
  {
   "cell_type": "code",
   "execution_count": 194,
   "id": "13090702",
   "metadata": {},
   "outputs": [
    {
     "name": "stdout",
     "output_type": "stream",
     "text": [
      "2\n"
     ]
    }
   ],
   "source": [
    "def checkRotation(arr,n):\n",
    "    min = 0\n",
    "    for i in range(min+1,n):\n",
    "        if (arr[i]<arr[min]):\n",
    "            min = i\n",
    "    print(min)\n",
    "        \n",
    "            \n",
    "checkRotation([5,6,1,2,3,4],6)"
   ]
  },
  {
   "cell_type": "markdown",
   "id": "600a24ef",
   "metadata": {},
   "source": [
    "sort 0 1 2"
   ]
  },
  {
   "cell_type": "code",
   "execution_count": 234,
   "id": "afd3b3a4",
   "metadata": {},
   "outputs": [
    {
     "name": "stdout",
     "output_type": "stream",
     "text": [
      "1 8\n",
      "1 7\n",
      "1 6\n",
      "2 5\n",
      "[0, 0, 1, 1, 1, 2, 2, 2, 2]\n"
     ]
    }
   ],
   "source": [
    "def sort012(arr,n):\n",
    "    i = 0\n",
    "    nxt0 = 0\n",
    "    nxt2 = len(arr)-1\n",
    "    while i<=nxt2:\n",
    "        if arr[i] == 0:\n",
    "            temp = arr[nxt0]\n",
    "            arr[nxt0] = arr[i]\n",
    "            arr[i] = temp\n",
    "            #arr[nxt0],arr[i] = arr[i],arr[nxt0]\n",
    "            i += 1\n",
    "            nxt0 += 1\n",
    "        elif (arr[i] == 2):\n",
    "            temp = arr[nxt2]\n",
    "            arr[nxt2] = arr[i]\n",
    "            arr[i] = temp\n",
    "            print(i,nxt2)\n",
    "            nxt2 -= 1\n",
    "        else:\n",
    "            i += 1\n",
    "    print(arr)\n",
    "    \n",
    "sort012([0,2,2,1,0,1,1,2,2],9)"
   ]
  },
  {
   "cell_type": "markdown",
   "id": "7ded629b",
   "metadata": {},
   "source": [
    "sum of two arrays"
   ]
  },
  {
   "cell_type": "code",
   "execution_count": 8,
   "id": "0c10bed7",
   "metadata": {},
   "outputs": [
    {
     "name": "stdout",
     "output_type": "stream",
     "text": [
      "[1, 3, 8, 0]\n"
     ]
    }
   ],
   "source": [
    "def sumTwoArray(arr1,n,arr2,m):\n",
    "    carry = 0\n",
    "    total = 0\n",
    "    if m>n:\n",
    "        k = m\n",
    "    else:\n",
    "        k = n\n",
    "    result = [0]+[0]*k\n",
    "    for i in range(k+1):\n",
    "        if n-i-1 >=0:\n",
    "            a = arr1[n-i-1]\n",
    "        else:\n",
    "            a = 0\n",
    "        if m-i-1 >= 0:\n",
    "            b = arr2[m-i-1]\n",
    "        else:\n",
    "            b = 0\n",
    "        total = a+b+carry\n",
    "        result[k-i] = total%10\n",
    "        carry = total//10\n",
    "    if carry > 0:\n",
    "        result[0] = carry\n",
    "    print(result)\n",
    "            \n",
    "        \n",
    "sumTwoArray([6,2,4],3,[7,5,6],3)"
   ]
  },
  {
   "cell_type": "code",
   "execution_count": 1,
   "id": "c9db8a0e",
   "metadata": {},
   "outputs": [
    {
     "name": "stdout",
     "output_type": "stream",
     "text": [
      "[0, 0, 0, 0, 0, 0, 0, 0, 0] 9\n"
     ]
    }
   ],
   "source": [
    "k = 8\n",
    "result =[0]+[0] * k  # add +1 \n",
    "print(result,len(result))"
   ]
  },
  {
   "cell_type": "code",
   "execution_count": null,
   "id": "b1dd2898",
   "metadata": {},
   "outputs": [],
   "source": [
    "def leaderInArray(arr,n):\n",
    "    for i in range(n):\n",
    "        for j in range(i+1,n):\n",
    "            if arr[i]<arr[j]:\n",
    "                break\n",
    "        else:\n",
    "            print(arr[i], end=' ')\n",
    "\n",
    "n = int(input())\n",
    "li = [int(x) for x in input().split()]\n",
    "leaderInArray(li,n)"
   ]
  }
 ],
 "metadata": {
  "kernelspec": {
   "display_name": "Python 3 (ipykernel)",
   "language": "python",
   "name": "python3"
  },
  "language_info": {
   "codemirror_mode": {
    "name": "ipython",
    "version": 3
   },
   "file_extension": ".py",
   "mimetype": "text/x-python",
   "name": "python",
   "nbconvert_exporter": "python",
   "pygments_lexer": "ipython3",
   "version": "3.9.13"
  }
 },
 "nbformat": 4,
 "nbformat_minor": 5
}
