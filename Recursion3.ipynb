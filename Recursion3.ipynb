{
 "cells": [
  {
   "cell_type": "code",
   "execution_count": 2,
   "id": "9d494c15",
   "metadata": {},
   "outputs": [
    {
     "name": "stdout",
     "output_type": "stream",
     "text": [
      "23\n",
      "ad\n",
      "bd\n",
      "cd\n",
      "ae\n",
      "be\n",
      "ce\n",
      "af\n",
      "bf\n",
      "cf\n"
     ]
    }
   ],
   "source": [
    "def getString(digit):\n",
    "    if digit == 2:\n",
    "        return \"abc\"\n",
    "    if digit == 3:\n",
    "        return \"def\"\n",
    "    elif digit == 4:\n",
    "        return \"ghi\"\n",
    "    elif digit == 5:\n",
    "        return \"jkl\"\n",
    "    elif digit == 6:\n",
    "        return \"mno\"\n",
    "    elif digit == 7:\n",
    "        return \"pqrs\"\n",
    "    elif digit == 8:\n",
    "        return \"tuv\"\n",
    "    elif digit == 9:\n",
    "        return \"wxyz\"\n",
    "    return \" \"\n",
    "\n",
    "\n",
    "def printKeypad(n,o):\n",
    "    if n == 0:\n",
    "        print(o)\n",
    "        return\n",
    "    lastDigit = n%10\n",
    "    smallerNum = n//10\n",
    "    s = getString(lastDigit)\n",
    "    for ele in s:\n",
    "        printKeypad(smallerNum, ele+o)\n",
    "\n",
    "n = int(input())\n",
    "printKeypad(n,o = \"\")"
   ]
  },
  {
   "cell_type": "code",
   "execution_count": 4,
   "id": "9c1bd2d3",
   "metadata": {},
   "outputs": [
    {
     "name": "stdout",
     "output_type": "stream",
     "text": [
      "19 3 9\n",
      "[19]\n",
      "[3]\n",
      "[9]\n",
      "[[]] 1\n",
      "[[], []] 1\n",
      "[[], [], [], []] 1\n"
     ]
    }
   ],
   "source": [
    "def subset(arr):\n",
    "    if len(arr) == 0:\n",
    "        return [[]]\n",
    "    first = [arr[0]]\n",
    "    print(first)\n",
    "    smallerArr = arr[1:]\n",
    "    # print(smallerArr)\n",
    "    smallerOutput = subset(arr[1:])\n",
    "    print(smallerOutput,1)\n",
    "    out = smallerOutput.copy()\n",
    "    \n",
    "    \n",
    "    for ele in out:\n",
    "        # print(ele)\n",
    "        ele = first + ele\n",
    "    \n",
    "    ans = smallerOutput + out\n",
    "    # print(ans)\n",
    "    return ans\n",
    "\n",
    "arr = [int(x) for x in input().split()]\n",
    "ans = subset(arr)\n",
    "# for x in ans:\n",
    "#     print(x) "
   ]
  },
  {
   "cell_type": "code",
   "execution_count": 22,
   "id": "2c9ef0ed",
   "metadata": {},
   "outputs": [
    {
     "name": "stdout",
     "output_type": "stream",
     "text": [
      "[1, 3]\n",
      "[[], [3]]\n"
     ]
    }
   ],
   "source": [
    "out = [[],[3]]\n",
    "first = [1]\n",
    "for ele in out:\n",
    "    a = first + ele\n",
    "    \n",
    "print(first)\n",
    "print(out)"
   ]
  },
  {
   "cell_type": "code",
   "execution_count": null,
   "id": "26489c84",
   "metadata": {},
   "outputs": [],
   "source": [
    "def permutations(string):\n",
    "    if len(string) == 0:\n",
    "        return [\"\"]\n",
    "    smallAns = permutations(string[1:])\n",
    "    smallAns.append(string)\n",
    "    for i in range(len(smallAns)):\n",
    "        smallAns.append(smallAns[i]+string[0])\n",
    "    return smallAns"
   ]
  },
  {
   "cell_type": "code",
   "execution_count": null,
   "id": "f591d693",
   "metadata": {},
   "outputs": [],
   "source": [
    "def subsetsSumK(arr, k) :\n",
    "    lst = [[]]\n",
    "    for i in arr:\n",
    "        for j in range(len(lst)):\n",
    "            lst.append(lst[j] + [i])\n",
    "    for i in lst[::-1]:\n",
    "        if sum(i) == k:\n",
    "            print(*i)\n",
    "            \n",
    "size = int(input())\n",
    "arr = list(map(int,input().split()))\n",
    "s = int(input())\n",
    "subsetsSumK(arr, s)"
   ]
  },
  {
   "cell_type": "code",
   "execution_count": 9,
   "id": "a085cbbc",
   "metadata": {},
   "outputs": [
    {
     "name": "stdout",
     "output_type": "stream",
     "text": [
      "['((()))', '(()())', '(())()', '()(())', '()()()']\n"
     ]
    }
   ],
   "source": [
    "def generateParenthesis(n):\n",
    "    o = n\n",
    "    c = n\n",
    "    ot = \"\"\n",
    "    arr = []\n",
    "    def helper(o,c,ot):\n",
    "        if o == 0 and c == 0:\n",
    "            arr.append(ot)\n",
    "            return\n",
    "        if o != 0:\n",
    "            ot1 = ot\n",
    "            ot1 += \"(\" \n",
    "            helper(o-1,c,ot1)\n",
    "        if o<c:\n",
    "            ot2 = ot + \")\"\n",
    "            helper(o,c-1,ot2)\n",
    "    helper(o,c,ot)\n",
    "    return arr\n",
    "            \n",
    "        \n",
    "ans = generateParenthesis(3)\n",
    "print(ans)"
   ]
  },
  {
   "cell_type": "code",
   "execution_count": 21,
   "id": "d91abb7b",
   "metadata": {},
   "outputs": [
    {
     "name": "stdout",
     "output_type": "stream",
     "text": [
      "['101', '110', '111']\n"
     ]
    }
   ],
   "source": [
    "def printNBitBinary(n,o = 0,z=0,ot=\"\"):\n",
    "    if n==0:\n",
    "#         print(ot)\n",
    "        \n",
    "        return [ot]\n",
    "    a1=[]\n",
    "    if o>z:\n",
    "        ot1 = ot+\"0\"\n",
    "        a1 += printNBitBinary(n-1,o,z+1,ot1)\n",
    "    ot2 = ot + \"1\"\n",
    "    a2 = printNBitBinary(n-1,o+1,z,ot2)\n",
    "    return a1+a2\n",
    "    \n",
    "ans = printNBitBinary(3)\n",
    "print(ans)"
   ]
  },
  {
   "cell_type": "code",
   "execution_count": 62,
   "id": "a63291aa",
   "metadata": {},
   "outputs": [
    {
     "name": "stdout",
     "output_type": "stream",
     "text": [
      "24\n"
     ]
    }
   ],
   "source": [
    "def josephusProblem(n,k):\n",
    "    arr = [int(i) for i in range(1,n+1)]\n",
    "    i = 0\n",
    "    def helper(arr,i,k):\n",
    "        if len(arr)==1:\n",
    "            return arr[0]\n",
    "        i = (i+(k-1))%len(arr)\n",
    "        arr.pop(i)\n",
    "        ans = helper(arr,i,k)\n",
    "        return ans\n",
    "    \n",
    "    ans = helper(arr,i,k)\n",
    "    return ans\n",
    "    \n",
    "ans = josephusProblem(40,7)\n",
    "print(ans)"
   ]
  }
 ],
 "metadata": {
  "kernelspec": {
   "display_name": "Python 3 (ipykernel)",
   "language": "python",
   "name": "python3"
  },
  "language_info": {
   "codemirror_mode": {
    "name": "ipython",
    "version": 3
   },
   "file_extension": ".py",
   "mimetype": "text/x-python",
   "name": "python",
   "nbconvert_exporter": "python",
   "pygments_lexer": "ipython3",
   "version": "3.9.13"
  }
 },
 "nbformat": 4,
 "nbformat_minor": 5
}
