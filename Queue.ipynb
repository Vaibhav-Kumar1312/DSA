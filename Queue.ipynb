{
 "cells": [
  {
   "cell_type": "code",
   "execution_count": null,
   "id": "a10f11f1",
   "metadata": {},
   "outputs": [],
   "source": [
    "class QueueUsingTwoStacks:\n",
    "    def __init__(self):\n",
    "        self.__s1=[]\n",
    "        self.__s2=[]\n",
    "    def enqueue(self,data):\n",
    "        #(O(n))\n",
    "        while(len(self.__s1)!=0):\n",
    "            self.__s2.append(self.__s1.pop())\n",
    "        self.__s1.append(data)\n",
    "        \n",
    "        while(len(self.__s2)!=0):\n",
    "            self.__s1.append(self.__s2.pop())\n",
    "        return\n",
    "    \n",
    "    def dequeue(self):\n",
    "        #O(1)\n",
    "        if len(self.__s1)==0:\n",
    "            return -1\n",
    "        return self.__s1.pop()\n",
    "        \n",
    "    def front(self):\n",
    "        if len(self.__s1)==0:\n",
    "            return -1\n",
    "        return self.__s1[-1]\n",
    "        \n",
    "    def size(self):\n",
    "        return len(self.__s1)\n",
    "        \n",
    "    def isEmpty(self):\n",
    "        return self.size()==0\n",
    "    \n",
    "q=QueueUsingTwoStacks()\n",
    "q.enqueue(1)\n",
    "q.enqueue(2)\n",
    "q.enqueue(3)\n",
    "q.enqueue(4)\n",
    "\n",
    "while(q.isEmpty() is False):\n",
    "    print(q.front())\n",
    "    q.dequeue()"
   ]
  },
  {
   "cell_type": "code",
   "execution_count": null,
   "id": "1b0742b7",
   "metadata": {},
   "outputs": [],
   "source": [
    "class QueueUsing2Stack:\n",
    "    def __init__(self):\n",
    "        self.s1 = []\n",
    "        self.s2 = []\n",
    "        self.count = 0\n",
    "        \n",
    "        \n",
    "    def enqueue(self,data):\n",
    "        count += 1\n",
    "        self.s1.push(data)\n",
    "        \n",
    "    def dequeue(self):\n",
    "        if self.count > 1:\n",
    "            for i in range(1,self.count):\n",
    "                a = self.s1.pop()\n",
    "                self.s2.push(a)\n",
    "            ele = self.s1.pop()\n",
    "            for i in range(self.count-1,-1,-1):\n",
    "                b = self.s2.pop()\n",
    "                self.s1.push(b)\n",
    "            return ele\n",
    "        else:\n",
    "            elem = self.s1.pop()\n",
    "            return elem\n",
    "        "
   ]
  },
  {
   "cell_type": "code",
   "execution_count": 8,
   "id": "fe1c521e",
   "metadata": {},
   "outputs": [
    {
     "name": "stdout",
     "output_type": "stream",
     "text": [
      "#\n"
     ]
    }
   ],
   "source": [
    "def func(n):\n",
    "    if(n==1):\n",
    "        return \n",
    "    lv=1\n",
    "    while(lv <= n):\n",
    "        inner_lv=1\n",
    "        while(inner_lv <= n):\n",
    "            print(\"#\")\n",
    "            return\n",
    "            inner_lv += 1\n",
    "    lv += 1\n",
    "                   \n",
    "func(100)"
   ]
  }
 ],
 "metadata": {
  "kernelspec": {
   "display_name": "Python 3 (ipykernel)",
   "language": "python",
   "name": "python3"
  },
  "language_info": {
   "codemirror_mode": {
    "name": "ipython",
    "version": 3
   },
   "file_extension": ".py",
   "mimetype": "text/x-python",
   "name": "python",
   "nbconvert_exporter": "python",
   "pygments_lexer": "ipython3",
   "version": "3.9.13"
  }
 },
 "nbformat": 4,
 "nbformat_minor": 5
}
