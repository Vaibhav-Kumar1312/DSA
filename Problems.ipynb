{
 "cells": [
  {
   "cell_type": "code",
   "execution_count": null,
   "id": "4a733163",
   "metadata": {},
   "outputs": [],
   "source": [
    "def equi(arr,n):\n",
    "    m = 0\n",
    "    l = 0\n",
    "    for i in range(2,n):\n",
    "        m = m+arr[i]\n",
    "    for i in range(1,n):\n",
    "        if arr[i-1] == m:\n",
    "            return i\n",
    "        else:\n",
    "            "
   ]
  },
  {
   "cell_type": "code",
   "execution_count": null,
   "id": "f6e508db",
   "metadata": {},
   "outputs": [],
   "source": [
    "def unique(arr,n):\n",
    "    arr.sort()\n",
    "    while i<n:\n",
    "        if arr[i] == arr[i+1]\n",
    "        i += 2\n",
    "        else:\n",
    "            return arr[i]"
   ]
  },
  {
   "cell_type": "code",
   "execution_count": null,
   "id": "ec1fa691",
   "metadata": {},
   "outputs": [],
   "source": [
    "def pairSum(arr, n, num) :\n",
    "\t#Your code goes here\n",
    "    arr.sort()\n",
    "    count = 0\n",
    "    if n<2:\n",
    "        return count\n",
    "    if (arr[0] == arr[n-1]) and (2*arr[0] == num):\n",
    "        return ((n-1)*n)//2\n",
    "    else:\n",
    "        i = 0\n",
    "        j = n-1\n",
    "        while i < j:\n",
    "            curr_sum = arr[i]+arr[j]\n",
    "            if curr_sum == num:\n",
    "                count += 1\n",
    "                if arr[i] == arr[i+1]:\n",
    "                    i += 1\n",
    "                elif arr[j] == arr[j-1]:\n",
    "                    j -= 1\n",
    "                else:\n",
    "                    i += 1\n",
    "                    j -= 1\n",
    "            elif curr_sum<num:\n",
    "                i += 1\n",
    "            else:\n",
    "                j -= 1\n",
    "        return count\n",
    "    \n",
    "    \n",
    "pairSum([1,9,9,0,3,8,3,3,3],)"
   ]
  }
 ],
 "metadata": {
  "kernelspec": {
   "display_name": "Python 3 (ipykernel)",
   "language": "python",
   "name": "python3"
  },
  "language_info": {
   "codemirror_mode": {
    "name": "ipython",
    "version": 3
   },
   "file_extension": ".py",
   "mimetype": "text/x-python",
   "name": "python",
   "nbconvert_exporter": "python",
   "pygments_lexer": "ipython3",
   "version": "3.9.13"
  }
 },
 "nbformat": 4,
 "nbformat_minor": 5
}
