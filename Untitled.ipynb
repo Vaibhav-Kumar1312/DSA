{
 "cells": [
  {
   "cell_type": "code",
   "execution_count": null,
   "id": "ca1372cd",
   "metadata": {},
   "outputs": [],
   "source": [
    "# def miniTent(a,b,c):\n",
    "#     if a==0 and b==0 and c==0:\n",
    "#         return 0\n",
    "#     if a==1 and b==1 and c==1:\n",
    "#         return -1\n",
    "#     mini = a\n",
    "# #     while b > 0:\n",
    "# #         b -= 3\n",
    "# #         mini += 1\n",
    "# #     if c == 1 and b <= 1:\n",
    "# #         return -1\n",
    "# #     c = b + c\n",
    "# #     while c>0:\n",
    "# #         if c%3==0:\n",
    "# #             c -= 3\n",
    "# #             mini += 1\n",
    "# #         elif c%2==0 or c-1%2==0:\n",
    "# #             c -= 2\n",
    "# #             mini += 1\n",
    "# #         else:\n",
    "# #             mini += c\n",
    "#     while b >0 and c>0:\n",
    "#         if b > 0:\n",
    "#             b -= 3\n",
    "#             mini += 1\n",
    "#         if c%3==0:\n",
    "#             c -= 3\n",
    "#             mini += 1\n",
    "#         elif c%2==0 or c-1%2==0:\n",
    "#             c -= 2\n",
    "#             mini += 1\n",
    "#         else:\n",
    "#             mini += c\n",
    "#     if b == -1 and c == 1:\n",
    "#         return mini+1\n",
    "#     elif b == -2 and c == 1:\n",
    "#         return -1\n",
    "#     return mini\n",
    "\n",
    "\n",
    "\n",
    "\n",
    "def miniTent(a,b,c):\n",
    "    if a==0 and b==0 and c==0:\n",
    "        return 0\n",
    "    if b%3 == 1 and c== 1:\n",
    "        return -1\n",
    "    mini = a\n",
    "    x = b+c\n",
    "    while x > 0:\n",
    "        if x%3==0:\n",
    "            x -= 3\n",
    "            mini += 1\n",
    "    while x > 0:\n",
    "        if x%2==0:\n",
    "            x -= 2\n",
    "            mini += 1\n",
    "    return mini + x%2\n",
    "    \n",
    "    \n",
    "\n",
    "\n",
    "# t = int(input())\n",
    "# for i in range(t):\n",
    "#     inp = list(map(str,input().split()))\n",
    "#     a = int(inp[0])\n",
    "#     b = int(inp[1])\n",
    "#     c = int(inp[2])\n",
    "#     ans = miniTent(a,b,c)\n",
    "#     print(ans)\n",
    "\n",
    "# print(miniTent(1,4,1))\n",
    "print(miniTent(19,7,18))"
   ]
  },
  {
   "cell_type": "code",
   "execution_count": 61,
   "id": "24ee3736",
   "metadata": {},
   "outputs": [
    {
     "data": {
      "text/plain": [
       "1"
      ]
     },
     "execution_count": 61,
     "metadata": {},
     "output_type": "execute_result"
    }
   ],
   "source": [
    "9%2"
   ]
  }
 ],
 "metadata": {
  "kernelspec": {
   "display_name": "Python 3 (ipykernel)",
   "language": "python",
   "name": "python3"
  },
  "language_info": {
   "codemirror_mode": {
    "name": "ipython",
    "version": 3
   },
   "file_extension": ".py",
   "mimetype": "text/x-python",
   "name": "python",
   "nbconvert_exporter": "python",
   "pygments_lexer": "ipython3",
   "version": "3.9.13"
  }
 },
 "nbformat": 4,
 "nbformat_minor": 5
}
