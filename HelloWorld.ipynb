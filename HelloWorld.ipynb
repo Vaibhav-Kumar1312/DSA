{
 "cells": [
  {
   "cell_type": "markdown",
   "id": "fb89488a",
   "metadata": {},
   "source": [
    "HelloWorld"
   ]
  },
  {
   "cell_type": "code",
   "execution_count": 1,
   "id": "ba879cb0",
   "metadata": {},
   "outputs": [
    {
     "name": "stdout",
     "output_type": "stream",
     "text": [
      "HelloWorld\n"
     ]
    }
   ],
   "source": [
    "print(\"HelloWorld\")"
   ]
  },
  {
   "cell_type": "markdown",
   "id": "27e9e479",
   "metadata": {},
   "source": [
    "### Variable"
   ]
  },
  {
   "cell_type": "code",
   "execution_count": null,
   "id": "17968455",
   "metadata": {},
   "outputs": [],
   "source": []
  },
  {
   "cell_type": "markdown",
   "id": "ccb9f52a",
   "metadata": {},
   "source": []
  },
  {
   "cell_type": "code",
   "execution_count": 3,
   "id": "52a62e09",
   "metadata": {},
   "outputs": [
    {
     "name": "stdout",
     "output_type": "stream",
     "text": [
      "[1, 2, 3, 6, 7]\n"
     ]
    }
   ],
   "source": [
    "# ONe array and contains [1,1,1,2,3,3,6,6,7]\n",
    "def replaceArr(nums):\n",
    "    arr1 = []\n",
    "    for i in range(len(nums)):\n",
    "        if len(arr1) != 0 and arr1[-1] != nums[i]:\n",
    "            arr1.append(nums[i])\n",
    "        if len(arr1) == 0:\n",
    "            arr1.append(nums[i])\n",
    "    return arr1\n",
    "\n",
    "ans = replaceArr([1,1,1,2,3,3,6,6,7])\n",
    "print(ans)"
   ]
  }
 ],
 "metadata": {
  "kernelspec": {
   "display_name": "Python 3 (ipykernel)",
   "language": "python",
   "name": "python3"
  },
  "language_info": {
   "codemirror_mode": {
    "name": "ipython",
    "version": 3
   },
   "file_extension": ".py",
   "mimetype": "text/x-python",
   "name": "python",
   "nbconvert_exporter": "python",
   "pygments_lexer": "ipython3",
   "version": "3.9.13"
  }
 },
 "nbformat": 4,
 "nbformat_minor": 5
}
