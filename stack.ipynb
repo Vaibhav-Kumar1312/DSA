{
 "cells": [
  {
   "cell_type": "code",
   "execution_count": 2,
   "id": "4ad4b737",
   "metadata": {},
   "outputs": [
    {
     "ename": "IndentationError",
     "evalue": "unindent does not match any outer indentation level (<tokenize>, line 5)",
     "output_type": "error",
     "traceback": [
      "\u001b[1;36m  File \u001b[1;32m\"<tokenize>\"\u001b[1;36m, line \u001b[1;32m5\u001b[0m\n\u001b[1;33m    count = 0\u001b[0m\n\u001b[1;37m    ^\u001b[0m\n\u001b[1;31mIndentationError\u001b[0m\u001b[1;31m:\u001b[0m unindent does not match any outer indentation level\n"
     ]
    }
   ],
   "source": [
    "def checkRedundantBrackets(expression) :\n",
    "\t# Your code goes here\n",
    "\ta = expression\n",
    "\ttack = []\n",
    "    count = 0\n",
    "\tfor char in a:\n",
    "        if char != ')':\n",
    "            if char != '(' and char\n",
    "            tack.append(char)\n",
    "        \n",
    "    while \n",
    "            "
   ]
  },
  {
   "cell_type": "code",
   "execution_count": 5,
   "id": "ad397fed",
   "metadata": {},
   "outputs": [],
   "source": [
    "#with element stored in ans\n",
    "def nextGreaterToRight(arr):\n",
    "    n = len(arr)\n",
    "    s=[]\n",
    "    ans = [0]*len(arr)\n",
    "    for i in range(n-1,-1,-1):\n",
    "        \n",
    "        while(len(s) != 0 and arr[i]>s[-1]):\n",
    "            s.pop()\n",
    "        \n",
    "        #if stack is empty\n",
    "        if (not s):\n",
    "            ans[i] = -1\n",
    "        #if stack is not empty\n",
    "        else:\n",
    "            ans[i] = s[-1]\n",
    "        \n",
    "        \n",
    "        s.append(arr[i])\n",
    "    return ans\n",
    "    "
   ]
  },
  {
   "cell_type": "code",
   "execution_count": 6,
   "id": "a1e57337",
   "metadata": {},
   "outputs": [
    {
     "name": "stdout",
     "output_type": "stream",
     "text": [
      "[0, 85, 70, 75, 75, 85, 0]\n"
     ]
    }
   ],
   "source": [
    "a = nextGreaterToRight([100,80,60,70,60,75,85])\n",
    "print(a)"
   ]
  },
  {
   "cell_type": "code",
   "execution_count": null,
   "id": "e4787f29",
   "metadata": {},
   "outputs": [],
   "source": [
    "def nextGreaterToLeft(arr):\n",
    "    "
   ]
  },
  {
   "cell_type": "code",
   "execution_count": 20,
   "id": "e9468ccd",
   "metadata": {},
   "outputs": [
    {
     "name": "stdout",
     "output_type": "stream",
     "text": [
      "['{', '{', '{', '{']\n",
      "2\n"
     ]
    }
   ],
   "source": [
    "def minBracketReversal(a):\n",
    "    n = len(a)\n",
    "    if n%2 != 0:\n",
    "        return -1\n",
    "    s = []\n",
    "    count = 0\n",
    "    for el in a:\n",
    "        if el == '{':\n",
    "            s.append(el)\n",
    "        if el == '}' and len(s) != 0 and s[-1]=='{':\n",
    "            s.pop()\n",
    "        else:\n",
    "            s.append(el)\n",
    "    print(s)\n",
    "    while len(s) !=0:\n",
    "        c1 = s.pop()\n",
    "        c2 = s.pop()\n",
    "        if c1 == c2:\n",
    "            count += 1\n",
    "        else:\n",
    "            count += 2\n",
    "    return count\n",
    "\n",
    "ans = minBracketReversal('{{}}}}{{')\n",
    "print(ans)\n",
    "    "
   ]
  },
  {
   "cell_type": "code",
   "execution_count": null,
   "id": "419f85aa",
   "metadata": {},
   "outputs": [],
   "source": []
  }
 ],
 "metadata": {
  "kernelspec": {
   "display_name": "Python 3 (ipykernel)",
   "language": "python",
   "name": "python3"
  },
  "language_info": {
   "codemirror_mode": {
    "name": "ipython",
    "version": 3
   },
   "file_extension": ".py",
   "mimetype": "text/x-python",
   "name": "python",
   "nbconvert_exporter": "python",
   "pygments_lexer": "ipython3",
   "version": "3.9.13"
  }
 },
 "nbformat": 4,
 "nbformat_minor": 5
}
