{
 "cells": [
  {
   "cell_type": "markdown",
   "id": "cfb6e0a4",
   "metadata": {},
   "source": [
    "****\n",
    "****\n",
    "****\n",
    "****"
   ]
  },
  {
   "cell_type": "code",
   "execution_count": 7,
   "id": "4bb70295",
   "metadata": {},
   "outputs": [
    {
     "name": "stdout",
     "output_type": "stream",
     "text": [
      "8\n",
      "********\n",
      "********\n",
      "********\n",
      "********\n",
      "********\n",
      "********\n",
      "********\n",
      "********\n"
     ]
    }
   ],
   "source": [
    "n = int(input())\n",
    "i=1\n",
    "while i <= n:\n",
    "    j = 1\n",
    "    while j<=n:\n",
    "        print(\"*\",end = \"\")\n",
    "        j=j+1\n",
    "    print()\n",
    "    i = i+1"
   ]
  },
  {
   "cell_type": "code",
   "execution_count": 28,
   "id": "081ebf44",
   "metadata": {},
   "outputs": [
    {
     "name": "stdout",
     "output_type": "stream",
     "text": [
      "4\n",
      "1 2 3 4 \n",
      "1 2 3 4 \n",
      "1 2 3 4 \n",
      "1 2 3 4 \n"
     ]
    }
   ],
   "source": [
    "n = int(input())\n",
    "i=1\n",
    "while i <= n:\n",
    "    j = 1\n",
    "    while j<=n:\n",
    "        print(j,end = \" \")\n",
    "        j=j+1\n",
    "    print()\n",
    "    i = i+1"
   ]
  },
  {
   "cell_type": "code",
   "execution_count": null,
   "id": "ba69f601",
   "metadata": {},
   "outputs": [],
   "source": []
  },
  {
   "cell_type": "code",
   "execution_count": 8,
   "id": "d568a63e",
   "metadata": {},
   "outputs": [
    {
     "name": "stdout",
     "output_type": "stream",
     "text": [
      "1\n",
      "65\n",
      "65\n",
      "A\n"
     ]
    }
   ],
   "source": [
    "# print kth alphabet\n",
    "k = int(input())\n",
    "x = ord(\"A\")\n",
    "print(x)\n",
    "asciiTarget = x + k - 1\n",
    "print(asciiTarget)\n",
    "targetChar = chr(asciiTarget)\n",
    "print(targetChar)"
   ]
  },
  {
   "cell_type": "markdown",
   "id": "c8a957e5",
   "metadata": {},
   "source": [
    "ABCD\n",
    "ABCD\n",
    "ABCD\n",
    "ABCD"
   ]
  },
  {
   "cell_type": "code",
   "execution_count": 20,
   "id": "496e4dc9",
   "metadata": {},
   "outputs": [
    {
     "name": "stdout",
     "output_type": "stream",
     "text": [
      "4\n",
      "ABCD\n",
      "ABCD\n",
      "ABCD\n",
      "ABCD\n"
     ]
    }
   ],
   "source": [
    "n = int(input())\n",
    "i = 1\n",
    "while i<=n:\n",
    "    j=1\n",
    "    while j<=n:\n",
    "        print(chr(ord('A')+j-1),end=\"\")\n",
    "        j=j+1\n",
    "    print()\n",
    "    i = i+1\n"
   ]
  },
  {
   "cell_type": "markdown",
   "id": "fb0587a8",
   "metadata": {},
   "source": [
    "ABCD\n",
    "BCDE\n",
    "CDEF\n",
    "DEFG"
   ]
  },
  {
   "cell_type": "code",
   "execution_count": 27,
   "id": "5c8df454",
   "metadata": {},
   "outputs": [
    {
     "name": "stdout",
     "output_type": "stream",
     "text": [
      "4\n",
      "ABCD\n",
      "BCDE\n",
      "CDEF\n",
      "DEFG\n"
     ]
    }
   ],
   "source": [
    "n = int(input())\n",
    "i = 1\n",
    "while i<=n:\n",
    "    j = 1\n",
    "    start_har = chr(ord('A')+i-1)\n",
    "    while j<=n:\n",
    "        print(chr(ord(start_char)+j-1),end = '')\n",
    "        j = j+1\n",
    "    print()\n",
    "    i=i+1"
   ]
  },
  {
   "cell_type": "markdown",
   "id": "a1552065",
   "metadata": {},
   "source": [
    "   *\n",
    "  **\n",
    " ***\n",
    "****"
   ]
  },
  {
   "cell_type": "code",
   "execution_count": 36,
   "id": "4c3d02e2",
   "metadata": {},
   "outputs": [
    {
     "name": "stdout",
     "output_type": "stream",
     "text": [
      "4\n",
      "   1\n",
      "  23\n",
      " 345\n",
      "4567\n"
     ]
    }
   ],
   "source": [
    "n = int(input())\n",
    "i = 1\n",
    "while i<=n:\n",
    "    pace = 1\n",
    "    while pace<= n-i:\n",
    "        print(\" \",end = '')\n",
    "        pace = pace+1\n",
    "    tar = 1\n",
    "    p = i\n",
    "    while tar<=i:\n",
    "        print(p,end = '')\n",
    "        p = p+1\n",
    "        tar = tar+1\n",
    "    print()\n",
    "    i=i+1"
   ]
  },
  {
   "cell_type": "code",
   "execution_count": 43,
   "id": "22683a8a",
   "metadata": {},
   "outputs": [
    {
     "name": "stdout",
     "output_type": "stream",
     "text": [
      "5\n",
      "  *\n",
      " ***\n",
      "*****\n",
      " ***\n",
      "  *\n"
     ]
    }
   ],
   "source": [
    "n = int(input())\n",
    "i=1\n",
    "while i<=(n+1)//2:\n",
    "    pace = 1\n",
    "    while pace <= (n+1)//2 -i:\n",
    "        print(' ', end = '')\n",
    "        pace = pace + 1\n",
    "    tar = 1\n",
    "    while tar <= i:\n",
    "        print('*', end = '')\n",
    "        tar = tar +1\n",
    "    ec = i-1\n",
    "    while ec >=1:\n",
    "        print('*' , end = '')\n",
    "        ec = ec -1\n",
    "    print()\n",
    "    i = i+1\n",
    "j = n//2\n",
    "while j>=1:\n",
    "    pace = 1\n",
    "    while pace <= (n//2 -j) +1:\n",
    "        print(' ' , end = '')\n",
    "        pace = pace +1\n",
    "    tar = 1\n",
    "    while tar <= j:\n",
    "        print('*',end='')\n",
    "        tar = tar+1\n",
    "    rt = j-1\n",
    "    while rt >=1:\n",
    "        print('*',end='')\n",
    "        rt = rt-1\n",
    "    print()\n",
    "    j = j-1"
   ]
  },
  {
   "cell_type": "code",
   "execution_count": null,
   "id": "15d8f385",
   "metadata": {},
   "outputs": [],
   "source": []
  },
  {
   "cell_type": "code",
   "execution_count": 9,
   "id": "c51dc963",
   "metadata": {},
   "outputs": [
    {
     "name": "stdout",
     "output_type": "stream",
     "text": [
      "5\n",
      "1        1\n",
      "12      21\n",
      "123    321\n",
      "1234  4321\n",
      "1234554321\n"
     ]
    }
   ],
   "source": [
    "n = int(input())\n",
    "i = 1\n",
    "while i<=n:\n",
    "    num = 1\n",
    "    while num<=i:\n",
    "        print(num, end='')\n",
    "        num = num+1\n",
    "    pace1 = 1\n",
    "    while pace1 <=n-i:\n",
    "        print(\" \",end='')\n",
    "        pace1 = pace1+1\n",
    "    pace2 = 1\n",
    "    while pace2 <=n-i:\n",
    "        print(' ',end = '')\n",
    "        pace2 = pace2+1\n",
    "    num2 = i\n",
    "    while num2 >=1:\n",
    "        print(num2 , end = '')\n",
    "        num2 = num2-1\n",
    "    print()\n",
    "    i = i+1"
   ]
  },
  {
   "cell_type": "code",
   "execution_count": 10,
   "id": "adc3e384",
   "metadata": {},
   "outputs": [
    {
     "name": "stdout",
     "output_type": "stream",
     "text": [
      "5\n",
      "1        1\n",
      "12      21\n",
      "123    321\n",
      "1234  4321\n",
      "1234554321\n"
     ]
    }
   ],
   "source": [
    "n = int(input())\n",
    "i = 1\n",
    "while i<=n:\n",
    "    num = 1\n",
    "    while num<=i:\n",
    "        print(num, end='')\n",
    "        num = num+1\n",
    "    pace = 1\n",
    "    while pace <=2*n-2*i:\n",
    "        print(\" \" , end = '')\n",
    "        pace = pace + 1\n",
    "    num2 = i\n",
    "    while num2 >=1:\n",
    "        print(num2 , end = '')\n",
    "        num2 = num2-1\n",
    "    print()\n",
    "    i = i+1"
   ]
  },
  {
   "cell_type": "code",
   "execution_count": 49,
   "id": "a5019571",
   "metadata": {},
   "outputs": [
    {
     "name": "stdout",
     "output_type": "stream",
     "text": [
      "7\n",
      "* \n",
      " * * \n",
      "  * * * \n",
      "   * * * * \n",
      "  * * * \n",
      " * * \n",
      "* \n"
     ]
    }
   ],
   "source": [
    "n=int(input())\n",
    "i = 1\n",
    "while i<=(n+1)//2:\n",
    "    pace =1\n",
    "    while pace <= i-1:\n",
    "        print(' ',end = '')\n",
    "        pace = pace+1\n",
    "    tar=1\n",
    "    while tar <=i:\n",
    "        print(\"* \",end='')\n",
    "        tar = tar+1\n",
    "    print()\n",
    "    i = i+1\n",
    "j = 1\n",
    "while j<=n//2:\n",
    "    pace = 1\n",
    "    while pace <=n//2-j:\n",
    "        print(' ',end='')\n",
    "        pace = pace+1\n",
    "    tar = 1\n",
    "    while tar <=n//2-j+1:\n",
    "        print(\"* \",end='')\n",
    "        tar = tar+1\n",
    "    print()\n",
    "    j = j+1"
   ]
  },
  {
   "cell_type": "code",
   "execution_count": 56,
   "id": "6647379d",
   "metadata": {},
   "outputs": [
    {
     "name": "stdout",
     "output_type": "stream",
     "text": [
      "6\n",
      "123456\n",
      "*23456\n",
      "**3456\n",
      "***456\n",
      "****56\n",
      "*****6\n",
      "****56\n",
      "***456\n",
      "**3456\n",
      "*23456\n",
      "123456\n"
     ]
    }
   ],
   "source": [
    "n = int(input())\n",
    "for i in range(1,n+1):\n",
    "    for pace in range(1 , i):\n",
    "        print('*', end='')\n",
    "    for num in range(i , n+1 , 1):\n",
    "        print(num, end='')\n",
    "    print()\n",
    "for j in range(1 , n , 1):\n",
    "    for pace in range(1 , n-j , 1):\n",
    "        print('*',end='')\n",
    "    for num in range(n-j ,n+1 , 1):\n",
    "        print(num, end='')\n",
    "    print()    "
   ]
  },
  {
   "cell_type": "code",
   "execution_count": 7,
   "id": "944be290",
   "metadata": {},
   "outputs": [
    {
     "name": "stdout",
     "output_type": "stream",
     "text": [
      "5\n",
      "  *\n",
      " ***\n",
      "*****\n",
      "   *****\n",
      "    ***\n"
     ]
    }
   ],
   "source": [
    "n = int(input())\n",
    "for i in range(1 , ((n+1)//2)+1, 1):\n",
    "    for pace in range(1 , (n+1)//2-i+1, 1):\n",
    "        print(\" \", end='')\n",
    "    for tar in range(1 , 2*i , 1):\n",
    "        print(\"*\", end='')\n",
    "    print()\n",
    "for j in range((n//2)+1, 1 ,-1):\n",
    "    for pace in range(1 ,n-j+2, 1):\n",
    "        print(' ', end='')\n",
    "    for tar in range(1 , 2*j , 1):\n",
    "        print('*',end='')\n",
    "    print()"
   ]
  },
  {
   "cell_type": "code",
   "execution_count": 13,
   "id": "86da4e99",
   "metadata": {},
   "outputs": [
    {
     "name": "stdout",
     "output_type": "stream",
     "text": [
      "5\n",
      " ***\n",
      "  *\n"
     ]
    }
   ],
   "source": [
    "n = int(input())\n",
    "for j in range((n//2), 0 ,-1):\n",
    "    for pace in range(1 ,(n//2)-j+2, 1):\n",
    "        print(' ', end='')\n",
    "    for tar in range(1 , 2*j , 1):\n",
    "        print('*',end='')\n",
    "    print()"
   ]
  },
  {
   "cell_type": "code",
   "execution_count": 17,
   "id": "63801777",
   "metadata": {},
   "outputs": [
    {
     "name": "stdout",
     "output_type": "stream",
     "text": [
      "4\n",
      "4444444\n",
      "4333334\n",
      "4322234\n",
      "4321234\n",
      "4322234\n",
      "4333334\n",
      "4444444\n"
     ]
    }
   ],
   "source": [
    "n = int(input())\n",
    "for i in range(1,n+1):\n",
    "    temp = n\n",
    "    for j in range(1,i):\n",
    "        print(temp,end=\"\")\n",
    "        temp = temp -1\n",
    "    for j in range(1,(2*n) - (2*i) + 2):\n",
    "        print(n-i+1,end=\"\")\n",
    "    for j in range(1,i):\n",
    "        temp = temp+1\n",
    "        print(temp,end=\"\")\n",
    "    print()\n",
    "for i in range(n-1,0,-1):\n",
    "    temp = n\n",
    "    for j in range(1,i):\n",
    "        print(temp,end=\"\")\n",
    "        temp = temp - 1 \n",
    "    for j in range(1,(2*n) - (2*i) + 2):\n",
    "        print(n-i+1,end=\"\")\n",
    "    for j in range(1,i):\n",
    "        temp = temp+1\n",
    "        print(temp,end=\"\")\n",
    "    print()"
   ]
  },
  {
   "cell_type": "code",
   "execution_count": 22,
   "id": "4dc6534b",
   "metadata": {},
   "outputs": [
    {
     "name": "stdout",
     "output_type": "stream",
     "text": [
      "5\n",
      "1 2 3 4 5 \n",
      "11 12 13 14 15 \n",
      "21 22 23 24 25 \n",
      "16 17 18 19 20 \n",
      "6 7 8 9 10 \n"
     ]
    }
   ],
   "source": [
    "n = int(input())\n",
    "if n%2==0:\n",
    "    m = n//2\n",
    "else:\n",
    "    m=(n//2)+1\n",
    "\n",
    "for i in range(1 , m+1 , 1):\n",
    "    for j in range(1,n+1 , 1):\n",
    "        print(2*n*(i-1)+j , end='')\n",
    "        print(\" \",end='')\n",
    "    print()\n",
    "\n",
    "r = n-m\n",
    "for i in range(r , 0 , -1):\n",
    "    for j in range(1,n+1,1):\n",
    "        print((2*i-1)*n+j , end=\"\")\n",
    "        print(' ',end='')\n",
    "    print()"
   ]
  }
 ],
 "metadata": {
  "kernelspec": {
   "display_name": "Python 3 (ipykernel)",
   "language": "python",
   "name": "python3"
  },
  "language_info": {
   "codemirror_mode": {
    "name": "ipython",
    "version": 3
   },
   "file_extension": ".py",
   "mimetype": "text/x-python",
   "name": "python",
   "nbconvert_exporter": "python",
   "pygments_lexer": "ipython3",
   "version": "3.9.13"
  }
 },
 "nbformat": 4,
 "nbformat_minor": 5
}
