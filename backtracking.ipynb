{
 "cells": [
  {
   "cell_type": "markdown",
   "id": "bc191e6c",
   "metadata": {},
   "source": [
    "Rat in a maze\n"
   ]
  },
  {
   "cell_type": "code",
   "execution_count": 3,
   "id": "f967e92b",
   "metadata": {},
   "outputs": [
    {
     "name": "stdout",
     "output_type": "stream",
     "text": [
      "[[1, 0, 0, 0], [1, 0, 0, 0], [1, 0, 0, 0], [1, 1, 1, 1]]\n",
      "[[1, 0, 0, 0], [1, 0, 0, 0], [1, 1, 0, 0], [0, 1, 1, 1]]\n",
      "[[1, 1, 1, 0], [0, 0, 1, 1], [0, 0, 0, 1], [0, 0, 0, 1]]\n",
      "[[1, 1, 1, 1], [0, 0, 0, 1], [0, 0, 0, 1], [0, 0, 0, 1]]\n"
     ]
    }
   ],
   "source": [
    "def printPathHelper(maze,x,y,solution,n):\n",
    "    if x==n-1 and y == n-1:\n",
    "        solution[x][y] = 1\n",
    "        print(solution)\n",
    "        return\n",
    "    if x<0 or y<0 or x>=n or y >=n or maze[x][y] == 0 or solution[x][y] == 1:\n",
    "        return\n",
    "    solution[x][y] = 1\n",
    "    printPathHelper(maze,x+1,y,solution,n)\n",
    "    printPathHelper(maze,x,y+1,solution,n)\n",
    "    printPathHelper(maze,x-1,y,solution,n)\n",
    "    printPathHelper(maze,x,y-1,solution,n)\n",
    "    solution[x][y] = 0\n",
    "    return\n",
    "\n",
    "\n",
    "def printPath(maze):\n",
    "    n = len(maze)\n",
    "    solution = [[0 for j in range(n)] for i in range(n)]\n",
    "    printPathHelper(maze,0,0,solution,n)\n",
    "    \n",
    "    \n",
    "printPath([[1,1,1,1],[1,0,1,1],[1,1,0,1],[1,1,1,1]])"
   ]
  }
 ],
 "metadata": {
  "kernelspec": {
   "display_name": "Python 3 (ipykernel)",
   "language": "python",
   "name": "python3"
  },
  "language_info": {
   "codemirror_mode": {
    "name": "ipython",
    "version": 3
   },
   "file_extension": ".py",
   "mimetype": "text/x-python",
   "name": "python",
   "nbconvert_exporter": "python",
   "pygments_lexer": "ipython3",
   "version": "3.9.13"
  }
 },
 "nbformat": 4,
 "nbformat_minor": 5
}
