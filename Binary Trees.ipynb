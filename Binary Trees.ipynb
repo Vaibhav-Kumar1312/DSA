{
 "cells": [
  {
   "cell_type": "code",
   "execution_count": 173,
   "id": "204412e0",
   "metadata": {},
   "outputs": [],
   "source": [
    "class BinaryTreeNode:\n",
    "    def __init__(self,data):\n",
    "        self.data = data\n",
    "        self.left = None\n",
    "        self.right = None"
   ]
  },
  {
   "cell_type": "code",
   "execution_count": null,
   "id": "1eb451c3",
   "metadata": {},
   "outputs": [],
   "source": [
    "def preOrder(root):\n",
    "    if root == None:\n",
    "        return\n",
    "    print(root.data,end=' ')\n",
    "    preOrder(root.left)\n",
    "    preOrder(root.right)"
   ]
  },
  {
   "cell_type": "code",
   "execution_count": null,
   "id": "9b2f2baf",
   "metadata": {},
   "outputs": [],
   "source": [
    "def postOrder(root):\n",
    "    if root == None:\n",
    "        return \n",
    "    postOrder(root.left)\n",
    "    postOrder(root.right)\n",
    "    print(root.data, end=' ')"
   ]
  },
  {
   "cell_type": "code",
   "execution_count": null,
   "id": "9465a55c",
   "metadata": {},
   "outputs": [],
   "source": [
    "def inOrder(root):\n",
    "    if root == None:\n",
    "        return\n",
    "    inOrder(root.left)\n",
    "    print(root.data,end=' ')\n",
    "    inOrder(root.right)"
   ]
  },
  {
   "cell_type": "code",
   "execution_count": 174,
   "id": "80d08a57",
   "metadata": {},
   "outputs": [],
   "source": [
    "def printTreedetail(root):\n",
    "    if root == None:\n",
    "        return\n",
    "    print(root.data,end = \":\")\n",
    "    if root.left != None:\n",
    "        print('l',root.left.data ,end = \", \")\n",
    "    else:\n",
    "        print('None',end=' ')\n",
    "    if root.right != None:\n",
    "        print('r',root.right.data,end = \" \")\n",
    "    else:\n",
    "        print('None',end=' ')\n",
    "    print()\n",
    "    printTreedetail(root.left)\n",
    "    printTreedetail(root.right)"
   ]
  },
  {
   "cell_type": "code",
   "execution_count": null,
   "id": "2d106778",
   "metadata": {},
   "outputs": [],
   "source": [
    "def numNodes(root):\n",
    "    if root == None:\n",
    "        return 0\n",
    "    leftCount = numNodes(root.left)\n",
    "    rightCount = numNodes(root.right)\n",
    "    return 1 + leftCount + rightCount"
   ]
  },
  {
   "cell_type": "code",
   "execution_count": null,
   "id": "a5f5886b",
   "metadata": {},
   "outputs": [],
   "source": [
    "def numLeafNodes(root):\n",
    "    if root == None:\n",
    "        return 0\n",
    "    if root.left == None and root.right==None:\n",
    "        return 1\n",
    "    return numLeafNodes(root.left)+numLeafNodes(root.right)"
   ]
  },
  {
   "cell_type": "code",
   "execution_count": null,
   "id": "f7236164",
   "metadata": {},
   "outputs": [],
   "source": [
    "def findLargest(root):\n",
    "    if root == None:\n",
    "        return -1\n",
    "    leftTarget = findLargest(root.left)\n",
    "    rightTarget = findLargest(root.right)\n",
    "    return max(leftTarget,rightTarget,root.data)\n",
    "    "
   ]
  },
  {
   "cell_type": "code",
   "execution_count": null,
   "id": "a69aefa6",
   "metadata": {},
   "outputs": [],
   "source": [
    "def printAtDepthK(root,k):\n",
    "    if root ==None:\n",
    "        return\n",
    "    if k == 0:\n",
    "        print(root.data)\n",
    "    printAtDepthK(root.left,k-1)\n",
    "    printAtDepthK(root.right,k-1)"
   ]
  },
  {
   "cell_type": "code",
   "execution_count": null,
   "id": "42e2528d",
   "metadata": {},
   "outputs": [],
   "source": [
    "def printAtDepthK2(root,k,d=0):\n",
    "    if root == None:\n",
    "        return\n",
    "    if k == d:\n",
    "        print(root.data)\n",
    "    printAtDepthK2(root.left,k,d+1)\n",
    "    printAtDepthK2(root.right,k,d+1)"
   ]
  },
  {
   "cell_type": "code",
   "execution_count": null,
   "id": "8af845f5",
   "metadata": {},
   "outputs": [],
   "source": [
    "def isNodePresent(root, x):\n",
    "    # Write your code here.\n",
    "    if root==None:\n",
    "        return\n",
    "    left = isNodePresent(root.left,x)\n",
    "    right = isNodePresent(root.right,x)\n",
    "    if root.data==x:\n",
    "        return True\n",
    "    else:\n",
    "        return False\n",
    "    return left or right"
   ]
  },
  {
   "cell_type": "code",
   "execution_count": null,
   "id": "ee8347db",
   "metadata": {},
   "outputs": [],
   "source": [
    "def removeLeafNodes(root):\n",
    "    if root ==None:\n",
    "        return None\n",
    "    if root.left==None and root.right == None:\n",
    "        return None\n",
    "    root.left = removeLeafNodes(root.left)\n",
    "    root.right = removeLeafNodes(root.right)\n",
    "    return root"
   ]
  },
  {
   "cell_type": "code",
   "execution_count": null,
   "id": "6f319d46",
   "metadata": {},
   "outputs": [],
   "source": [
    "def height(root):\n",
    "    if root == None:\n",
    "        return 0\n",
    "    return 1+max(height(root.left),height(root.right))"
   ]
  },
  {
   "cell_type": "code",
   "execution_count": null,
   "id": "40ef24a4",
   "metadata": {},
   "outputs": [],
   "source": [
    "def isBalanced(root):\n",
    "    if root == None:\n",
    "        return True\n",
    "    lh = height(root.left)\n",
    "    rh = height(root.right)\n",
    "    if lh-rh > 1 or rh - lh > 1:\n",
    "        return False\n",
    "    isLeftBal = isBalanced(root.left)\n",
    "    isRightBal = isBalanced(root.right)\n",
    "    if isLeftBal and isRightBal:\n",
    "        return True\n",
    "    else:\n",
    "        return False"
   ]
  },
  {
   "cell_type": "code",
   "execution_count": null,
   "id": "751b8ffb",
   "metadata": {},
   "outputs": [],
   "source": [
    "def checkHeightAndBal(root):\n",
    "    if root == None:\n",
    "        return 0,True\n",
    "    lh,isLeftBal = checkHeightAndBal(root.left)\n",
    "    rh,isRightBal = checkHeightAndBal(root.right)\n",
    "    h = 1 + max(lh,rh)\n",
    "    if lh-rh>1 or rh-lh>1:\n",
    "        return h, False\n",
    "    if isLeftBal and isRightBal:\n",
    "        return h,True\n",
    "    else:\n",
    "        return h,False"
   ]
  },
  {
   "cell_type": "code",
   "execution_count": null,
   "id": "e5909bf7",
   "metadata": {},
   "outputs": [],
   "source": [
    "def takeInput():\n",
    "    root_data = int(input())\n",
    "    if root_data == -1:\n",
    "        return None\n",
    "    root = BinaryTreeNode(root_data)\n",
    "    leftTree = takeInput()\n",
    "    rightTree = takeInput()\n",
    "    root.left = leftTree\n",
    "    root.right = rightTree\n",
    "    return root\n",
    "\n",
    "root = takeInput()\n",
    "#preOrder(root)\n",
    "#postOrder(root)\n",
    "#inOrder(root)\n",
    "#print(numLeafNodes(root))\n",
    "#findLargest(root)\n",
    "root = removeLeafNodes(root)\n",
    "printTreedetail(root)\n",
    "#print(isNodePresent(root,3))"
   ]
  },
  {
   "cell_type": "code",
   "execution_count": 175,
   "id": "3b36aae1",
   "metadata": {},
   "outputs": [],
   "source": [
    "import queue\n",
    "def takeLevelWiseInput():\n",
    "    q = queue.Queue()\n",
    "    print(\"Enter Root\")\n",
    "    rootData = int(input())\n",
    "    if rootData == -1:\n",
    "        return None\n",
    "    root = BinaryTreeNode(rootData)\n",
    "    q.put(root)\n",
    "    while (not(q.empty())):\n",
    "        curr = q.get()\n",
    "        print('Enter the left child of', curr.data)\n",
    "        leftChild = int(input())\n",
    "        if leftChild != -1:\n",
    "            left = BinaryTreeNode(leftChild)\n",
    "            curr.left = left\n",
    "            q.put(left)\n",
    "        print('Enter the right Child of', curr.data)\n",
    "        rightChild = int(input())\n",
    "        if rightChild != -1:\n",
    "            right = BinaryTreeNode(rightChild)\n",
    "            curr.right = right\n",
    "            q.put(right)\n",
    "    return root\n",
    "        "
   ]
  },
  {
   "cell_type": "code",
   "execution_count": null,
   "id": "0b3ad037",
   "metadata": {},
   "outputs": [],
   "source": [
    "import queue\n",
    "def printInputLvlWise(root):\n",
    "    if root == None:\n",
    "        return\n",
    "    q=queue.Queue()\n",
    "    q.put(root)\n",
    "    while (not(q.empty())):\n",
    "        curr = q.get()\n",
    "        print(curr.data,end = \" \")\n",
    "        if curr.left != None:\n",
    "            q.put(curr.left)\n",
    "        if curr.right != None:\n",
    "            q.put(curr.right)\n",
    "    "
   ]
  },
  {
   "cell_type": "code",
   "execution_count": null,
   "id": "47350eee",
   "metadata": {},
   "outputs": [],
   "source": [
    "def buildTree(preOrder, inOrder, n) :\n",
    "\t#Your code goes here\n",
    "    if n == 0:\n",
    "        return\n",
    "    rootData = preOrder[0]\n",
    "    root = BinaryTreeNode(rootData)\n",
    "    k = -1\n",
    "    for i in range(len(inOrder)):\n",
    "        if inOrder[i] == rootData:\n",
    "            k = i\n",
    "            break\n",
    "    inOrderLeft = inOrder[0:k]\n",
    "    inOrderRight = inOrder[k+1:]\n",
    "    linl = len(inOrderLeft)\n",
    "    rinl = len(inOrderRight)\n",
    "    preOrderleft = preOrder[1:(linl+1)]\n",
    "    preOrderRight = preOrder[linl+1:]\n",
    "    left = buildTree(preOrderleft,inOrderLeft,linl)\n",
    "    right = buildTree(preOrderRight,inOrderRight,rinl)\n",
    "    root.left = left\n",
    "    root.right = right\n",
    "    return root"
   ]
  },
  {
   "cell_type": "code",
   "execution_count": 176,
   "id": "773f5c5d",
   "metadata": {},
   "outputs": [
    {
     "name": "stdout",
     "output_type": "stream",
     "text": [
      "Enter Root\n",
      "1\n",
      "Enter the left child of 1\n",
      "2\n",
      "Enter the right Child of 1\n",
      "3\n",
      "Enter the left child of 2\n",
      "4\n",
      "Enter the right Child of 2\n",
      "6\n",
      "Enter the left child of 3\n",
      "5\n",
      "Enter the right Child of 3\n",
      "7\n",
      "Enter the left child of 4\n",
      "-1\n",
      "Enter the right Child of 4\n",
      "-1\n",
      "Enter the left child of 6\n",
      "-1\n",
      "Enter the right Child of 6\n",
      "-1\n",
      "Enter the left child of 5\n",
      "-1\n",
      "Enter the right Child of 5\n",
      "-1\n",
      "Enter the left child of 7\n",
      "-1\n",
      "Enter the right Child of 7\n",
      "-1\n",
      "1:l 2, r 3 \n",
      "2:l 4, r 6 \n",
      "4:None None \n",
      "6:None None \n",
      "3:l 5, r 7 \n",
      "5:None None \n",
      "7:None None \n"
     ]
    }
   ],
   "source": [
    "root = takeLevelWiseInput()\n",
    "printTreedetail(root)"
   ]
  },
  {
   "cell_type": "code",
   "execution_count": null,
   "id": "335c9f22",
   "metadata": {},
   "outputs": [],
   "source": []
  }
 ],
 "metadata": {
  "kernelspec": {
   "display_name": "Python 3 (ipykernel)",
   "language": "python",
   "name": "python3"
  },
  "language_info": {
   "codemirror_mode": {
    "name": "ipython",
    "version": 3
   },
   "file_extension": ".py",
   "mimetype": "text/x-python",
   "name": "python",
   "nbconvert_exporter": "python",
   "pygments_lexer": "ipython3",
   "version": "3.9.13"
  }
 },
 "nbformat": 4,
 "nbformat_minor": 5
}
